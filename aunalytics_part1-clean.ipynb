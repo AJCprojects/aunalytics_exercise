{
 "cells": [
  {
   "cell_type": "code",
   "execution_count": 1,
   "id": "abf52bfc",
   "metadata": {},
   "outputs": [
    {
     "data": {
      "text/html": [
       "'data.frame'"
      ],
      "text/latex": [
       "'data.frame'"
      ],
      "text/markdown": [
       "'data.frame'"
      ],
      "text/plain": [
       "[1] \"data.frame\""
      ]
     },
     "metadata": {},
     "output_type": "display_data"
    },
    {
     "data": {
      "text/html": [
       "'data.frame'"
      ],
      "text/latex": [
       "'data.frame'"
      ],
      "text/markdown": [
       "'data.frame'"
      ],
      "text/plain": [
       "[1] \"data.frame\""
      ]
     },
     "metadata": {},
     "output_type": "display_data"
    }
   ],
   "source": [
    "#read data and data.frame it\n",
    "\n",
    "au_test=read.csv(\"~/Downloads/au_test.csv\",stringsAsFactors=T)\n",
    "au_train=read.csv(\"~/Downloads/au_train.csv\",stringsAsFactors=T)\n",
    "class(au_test)\n",
    "class(au_test)"
   ]
  },
  {
   "cell_type": "code",
   "execution_count": 2,
   "id": "d89e7f59",
   "metadata": {
    "scrolled": true
   },
   "outputs": [
    {
     "data": {
      "text/html": [
       "<ol class=list-inline>\n",
       "\t<li>'age'</li>\n",
       "\t<li>'workclass'</li>\n",
       "\t<li>'fnlwgt'</li>\n",
       "\t<li>'education'</li>\n",
       "\t<li>'education.num'</li>\n",
       "\t<li>'marital.status'</li>\n",
       "\t<li>'occupation'</li>\n",
       "\t<li>'relationship'</li>\n",
       "\t<li>'race'</li>\n",
       "\t<li>'sex'</li>\n",
       "\t<li>'capital.gain'</li>\n",
       "\t<li>'capital.loss'</li>\n",
       "\t<li>'hours.per.week'</li>\n",
       "\t<li>'native.country'</li>\n",
       "\t<li>'class'</li>\n",
       "</ol>\n"
      ],
      "text/latex": [
       "\\begin{enumerate*}\n",
       "\\item 'age'\n",
       "\\item 'workclass'\n",
       "\\item 'fnlwgt'\n",
       "\\item 'education'\n",
       "\\item 'education.num'\n",
       "\\item 'marital.status'\n",
       "\\item 'occupation'\n",
       "\\item 'relationship'\n",
       "\\item 'race'\n",
       "\\item 'sex'\n",
       "\\item 'capital.gain'\n",
       "\\item 'capital.loss'\n",
       "\\item 'hours.per.week'\n",
       "\\item 'native.country'\n",
       "\\item 'class'\n",
       "\\end{enumerate*}\n"
      ],
      "text/markdown": [
       "1. 'age'\n",
       "2. 'workclass'\n",
       "3. 'fnlwgt'\n",
       "4. 'education'\n",
       "5. 'education.num'\n",
       "6. 'marital.status'\n",
       "7. 'occupation'\n",
       "8. 'relationship'\n",
       "9. 'race'\n",
       "10. 'sex'\n",
       "11. 'capital.gain'\n",
       "12. 'capital.loss'\n",
       "13. 'hours.per.week'\n",
       "14. 'native.country'\n",
       "15. 'class'\n",
       "\n",
       "\n"
      ],
      "text/plain": [
       " [1] \"age\"            \"workclass\"      \"fnlwgt\"         \"education\"     \n",
       " [5] \"education.num\"  \"marital.status\" \"occupation\"     \"relationship\"  \n",
       " [9] \"race\"           \"sex\"            \"capital.gain\"   \"capital.loss\"  \n",
       "[13] \"hours.per.week\" \"native.country\" \"class\"         "
      ]
     },
     "metadata": {},
     "output_type": "display_data"
    },
    {
     "data": {
      "text/html": [
       "<ol class=list-inline>\n",
       "\t<li>'age'</li>\n",
       "\t<li>'workclass'</li>\n",
       "\t<li>'fnlwgt'</li>\n",
       "\t<li>'education'</li>\n",
       "\t<li>'education.num'</li>\n",
       "\t<li>'marital.status'</li>\n",
       "\t<li>'occupation'</li>\n",
       "\t<li>'relationship'</li>\n",
       "\t<li>'race'</li>\n",
       "\t<li>'sex'</li>\n",
       "\t<li>'capital.gain'</li>\n",
       "\t<li>'capital.loss'</li>\n",
       "\t<li>'hours.per.week'</li>\n",
       "\t<li>'native.country'</li>\n",
       "\t<li>'class'</li>\n",
       "</ol>\n"
      ],
      "text/latex": [
       "\\begin{enumerate*}\n",
       "\\item 'age'\n",
       "\\item 'workclass'\n",
       "\\item 'fnlwgt'\n",
       "\\item 'education'\n",
       "\\item 'education.num'\n",
       "\\item 'marital.status'\n",
       "\\item 'occupation'\n",
       "\\item 'relationship'\n",
       "\\item 'race'\n",
       "\\item 'sex'\n",
       "\\item 'capital.gain'\n",
       "\\item 'capital.loss'\n",
       "\\item 'hours.per.week'\n",
       "\\item 'native.country'\n",
       "\\item 'class'\n",
       "\\end{enumerate*}\n"
      ],
      "text/markdown": [
       "1. 'age'\n",
       "2. 'workclass'\n",
       "3. 'fnlwgt'\n",
       "4. 'education'\n",
       "5. 'education.num'\n",
       "6. 'marital.status'\n",
       "7. 'occupation'\n",
       "8. 'relationship'\n",
       "9. 'race'\n",
       "10. 'sex'\n",
       "11. 'capital.gain'\n",
       "12. 'capital.loss'\n",
       "13. 'hours.per.week'\n",
       "14. 'native.country'\n",
       "15. 'class'\n",
       "\n",
       "\n"
      ],
      "text/plain": [
       " [1] \"age\"            \"workclass\"      \"fnlwgt\"         \"education\"     \n",
       " [5] \"education.num\"  \"marital.status\" \"occupation\"     \"relationship\"  \n",
       " [9] \"race\"           \"sex\"            \"capital.gain\"   \"capital.loss\"  \n",
       "[13] \"hours.per.week\" \"native.country\" \"class\"         "
      ]
     },
     "metadata": {},
     "output_type": "display_data"
    },
    {
     "data": {
      "text/html": [
       "2003287"
      ],
      "text/latex": [
       "2003287"
      ],
      "text/markdown": [
       "2003287"
      ],
      "text/plain": [
       "[1] 2003287"
      ]
     },
     "metadata": {},
     "output_type": "display_data"
    },
    {
     "data": {
      "text/html": [
       "3974460"
      ],
      "text/latex": [
       "3974460"
      ],
      "text/markdown": [
       "3974460"
      ],
      "text/plain": [
       "[1] 3974460"
      ]
     },
     "metadata": {},
     "output_type": "display_data"
    },
    {
     "name": "stdout",
     "output_type": "stream",
     "text": [
      "'data.frame':\t16281 obs. of  15 variables:\n",
      " $ age           : int  25 38 28 44 18 34 29 63 24 55 ...\n",
      " $ workclass     : Factor w/ 9 levels \" ?\",\" Federal-gov\",..: 5 5 3 5 1 5 1 7 5 5 ...\n",
      " $ fnlwgt        : int  226802 89814 336951 160323 103497 198693 227026 104626 369667 104996 ...\n",
      " $ education     : Factor w/ 16 levels \" 10th\",\" 11th\",..: 2 12 8 16 16 1 12 15 16 6 ...\n",
      " $ education.num : int  7 9 12 10 10 6 9 15 10 4 ...\n",
      " $ marital.status: Factor w/ 7 levels \" Divorced\",\" Married-AF-spouse\",..: 5 3 3 3 5 5 5 3 5 3 ...\n",
      " $ occupation    : Factor w/ 15 levels \" ?\",\" Adm-clerical\",..: 8 6 12 8 1 9 1 11 9 4 ...\n",
      " $ relationship  : Factor w/ 6 levels \" Husband\",\" Not-in-family\",..: 4 1 1 1 4 2 5 1 5 1 ...\n",
      " $ race          : Factor w/ 5 levels \" Amer-Indian-Eskimo\",..: 3 5 5 3 5 5 3 5 5 5 ...\n",
      " $ sex           : Factor w/ 2 levels \" Female\",\" Male\": 2 2 2 2 1 2 2 2 1 2 ...\n",
      " $ capital.gain  : int  0 0 0 7688 0 0 0 3103 0 0 ...\n",
      " $ capital.loss  : int  0 0 0 0 0 0 0 0 0 0 ...\n",
      " $ hours.per.week: int  40 50 40 40 30 30 40 32 40 10 ...\n",
      " $ native.country: Factor w/ 41 levels \" ?\",\" Cambodia\",..: 39 39 39 39 39 39 39 39 39 39 ...\n",
      " $ class         : Factor w/ 2 levels \" <=50K.\",\" >50K.\": 1 1 2 2 1 1 1 2 1 1 ...\n",
      "'data.frame':\t32561 obs. of  15 variables:\n",
      " $ age           : int  39 50 38 53 28 37 49 52 31 42 ...\n",
      " $ workclass     : Factor w/ 9 levels \" ?\",\" Federal-gov\",..: 8 7 5 5 5 5 5 7 5 5 ...\n",
      " $ fnlwgt        : int  77516 83311 215646 234721 338409 284582 160187 209642 45781 159449 ...\n",
      " $ education     : Factor w/ 16 levels \" 10th\",\" 11th\",..: 10 10 12 2 10 13 7 12 13 10 ...\n",
      " $ education.num : int  13 13 9 7 13 14 5 9 14 13 ...\n",
      " $ marital.status: Factor w/ 7 levels \" Divorced\",\" Married-AF-spouse\",..: 5 3 1 3 3 3 4 3 5 3 ...\n",
      " $ occupation    : Factor w/ 15 levels \" ?\",\" Adm-clerical\",..: 2 5 7 7 11 5 9 5 11 5 ...\n",
      " $ relationship  : Factor w/ 6 levels \" Husband\",\" Not-in-family\",..: 2 1 2 1 6 6 2 1 2 1 ...\n",
      " $ race          : Factor w/ 5 levels \" Amer-Indian-Eskimo\",..: 5 5 5 3 3 5 3 5 5 5 ...\n",
      " $ sex           : Factor w/ 2 levels \" Female\",\" Male\": 2 2 2 2 1 1 1 2 1 2 ...\n",
      " $ capital.gain  : int  2174 0 0 0 0 0 0 0 14084 5178 ...\n",
      " $ capital.loss  : int  0 0 0 0 0 0 0 0 0 0 ...\n",
      " $ hours.per.week: int  40 13 40 40 40 40 16 45 50 40 ...\n",
      " $ native.country: Factor w/ 42 levels \" ?\",\" Cambodia\",..: 40 40 40 40 6 40 24 40 40 40 ...\n",
      " $ class         : Factor w/ 2 levels \" <=50K\",\" >50K\": 1 1 1 1 1 1 1 2 2 2 ...\n"
     ]
    },
    {
     "data": {
      "text/html": [
       "<table>\n",
       "<thead><tr><th scope=col>age</th><th scope=col>workclass</th><th scope=col>fnlwgt</th><th scope=col>education</th><th scope=col>education.num</th><th scope=col>marital.status</th><th scope=col>occupation</th><th scope=col>relationship</th><th scope=col>race</th><th scope=col>sex</th><th scope=col>capital.gain</th><th scope=col>capital.loss</th><th scope=col>hours.per.week</th><th scope=col>native.country</th><th scope=col>class</th></tr></thead>\n",
       "<tbody>\n",
       "\t<tr><td>25                                                         </td><td><span style=white-space:pre-wrap> Private  </span>         </td><td>226802                                                     </td><td><span style=white-space:pre-wrap> 11th        </span>      </td><td> 7                                                         </td><td><span style=white-space:pre-wrap> Never-married     </span></td><td> Machine-op-inspct                                         </td><td><span style=white-space:pre-wrap> Own-child    </span>     </td><td> Black                                                     </td><td><span style=white-space:pre-wrap> Male  </span>            </td><td><span style=white-space:pre-wrap>   0</span>               </td><td>0                                                          </td><td>40                                                         </td><td> United-States                                             </td><td> &lt;=50K.                                                 </td></tr>\n",
       "\t<tr><td>38                                                        </td><td><span style=white-space:pre-wrap> Private  </span>        </td><td> 89814                                                    </td><td><span style=white-space:pre-wrap> HS-grad     </span>     </td><td> 9                                                        </td><td> Married-civ-spouse                                       </td><td><span style=white-space:pre-wrap> Farming-fishing  </span></td><td><span style=white-space:pre-wrap> Husband      </span>    </td><td> White                                                    </td><td><span style=white-space:pre-wrap> Male  </span>           </td><td><span style=white-space:pre-wrap>   0</span>              </td><td>0                                                         </td><td>50                                                        </td><td> United-States                                            </td><td> &lt;=50K.                                                </td></tr>\n",
       "\t<tr><td>28                                                        </td><td> Local-gov                                                </td><td>336951                                                    </td><td><span style=white-space:pre-wrap> Assoc-acdm  </span>     </td><td>12                                                        </td><td> Married-civ-spouse                                       </td><td><span style=white-space:pre-wrap> Protective-serv  </span></td><td><span style=white-space:pre-wrap> Husband      </span>    </td><td> White                                                    </td><td><span style=white-space:pre-wrap> Male  </span>           </td><td><span style=white-space:pre-wrap>   0</span>              </td><td>0                                                         </td><td>40                                                        </td><td> United-States                                            </td><td> &gt;50K.                                                 </td></tr>\n",
       "\t<tr><td>44                                                    </td><td><span style=white-space:pre-wrap> Private  </span>    </td><td>160323                                                </td><td> Some-college                                         </td><td>10                                                    </td><td> Married-civ-spouse                                   </td><td> Machine-op-inspct                                    </td><td><span style=white-space:pre-wrap> Husband      </span></td><td> Black                                                </td><td><span style=white-space:pre-wrap> Male  </span>       </td><td>7688                                                  </td><td>0                                                     </td><td>40                                                    </td><td> United-States                                        </td><td> &gt;50K.                                             </td></tr>\n",
       "\t<tr><td>18                                                         </td><td><span style=white-space:pre-wrap> ?        </span>         </td><td>103497                                                     </td><td> Some-college                                              </td><td>10                                                         </td><td><span style=white-space:pre-wrap> Never-married     </span></td><td><span style=white-space:pre-wrap> ?                </span> </td><td><span style=white-space:pre-wrap> Own-child    </span>     </td><td> White                                                     </td><td> Female                                                    </td><td><span style=white-space:pre-wrap>   0</span>               </td><td>0                                                          </td><td>30                                                         </td><td> United-States                                             </td><td> &lt;=50K.                                                 </td></tr>\n",
       "\t<tr><td>34                                                         </td><td><span style=white-space:pre-wrap> Private  </span>         </td><td>198693                                                     </td><td><span style=white-space:pre-wrap> 10th        </span>      </td><td> 6                                                         </td><td><span style=white-space:pre-wrap> Never-married     </span></td><td><span style=white-space:pre-wrap> Other-service    </span> </td><td> Not-in-family                                             </td><td> White                                                     </td><td><span style=white-space:pre-wrap> Male  </span>            </td><td><span style=white-space:pre-wrap>   0</span>               </td><td>0                                                          </td><td>30                                                         </td><td> United-States                                             </td><td> &lt;=50K.                                                 </td></tr>\n",
       "</tbody>\n",
       "</table>\n"
      ],
      "text/latex": [
       "\\begin{tabular}{r|lllllllllllllll}\n",
       " age & workclass & fnlwgt & education & education.num & marital.status & occupation & relationship & race & sex & capital.gain & capital.loss & hours.per.week & native.country & class\\\\\n",
       "\\hline\n",
       "\t 25                  &  Private            & 226802              &  11th               &  7                  &  Never-married      &  Machine-op-inspct  &  Own-child          &  Black              &  Male               &    0                & 0                   & 40                  &  United-States      &  <=50K.            \\\\\n",
       "\t 38                  &  Private            &  89814              &  HS-grad            &  9                  &  Married-civ-spouse &  Farming-fishing    &  Husband            &  White              &  Male               &    0                & 0                   & 50                  &  United-States      &  <=50K.            \\\\\n",
       "\t 28                  &  Local-gov          & 336951              &  Assoc-acdm         & 12                  &  Married-civ-spouse &  Protective-serv    &  Husband            &  White              &  Male               &    0                & 0                   & 40                  &  United-States      &  >50K.             \\\\\n",
       "\t 44                  &  Private            & 160323              &  Some-college       & 10                  &  Married-civ-spouse &  Machine-op-inspct  &  Husband            &  Black              &  Male               & 7688                & 0                   & 40                  &  United-States      &  >50K.             \\\\\n",
       "\t 18                  &  ?                  & 103497              &  Some-college       & 10                  &  Never-married      &  ?                  &  Own-child          &  White              &  Female             &    0                & 0                   & 30                  &  United-States      &  <=50K.            \\\\\n",
       "\t 34                  &  Private            & 198693              &  10th               &  6                  &  Never-married      &  Other-service      &  Not-in-family      &  White              &  Male               &    0                & 0                   & 30                  &  United-States      &  <=50K.            \\\\\n",
       "\\end{tabular}\n"
      ],
      "text/markdown": [
       "\n",
       "| age | workclass | fnlwgt | education | education.num | marital.status | occupation | relationship | race | sex | capital.gain | capital.loss | hours.per.week | native.country | class |\n",
       "|---|---|---|---|---|---|---|---|---|---|---|---|---|---|---|\n",
       "| 25                  |  Private            | 226802              |  11th               |  7                  |  Never-married      |  Machine-op-inspct  |  Own-child          |  Black              |  Male               |    0                | 0                   | 40                  |  United-States      |  <=50K.             |\n",
       "| 38                  |  Private            |  89814              |  HS-grad            |  9                  |  Married-civ-spouse |  Farming-fishing    |  Husband            |  White              |  Male               |    0                | 0                   | 50                  |  United-States      |  <=50K.             |\n",
       "| 28                  |  Local-gov          | 336951              |  Assoc-acdm         | 12                  |  Married-civ-spouse |  Protective-serv    |  Husband            |  White              |  Male               |    0                | 0                   | 40                  |  United-States      |  >50K.              |\n",
       "| 44                  |  Private            | 160323              |  Some-college       | 10                  |  Married-civ-spouse |  Machine-op-inspct  |  Husband            |  Black              |  Male               | 7688                | 0                   | 40                  |  United-States      |  >50K.              |\n",
       "| 18                  |  ?                  | 103497              |  Some-college       | 10                  |  Never-married      |  ?                  |  Own-child          |  White              |  Female             |    0                | 0                   | 30                  |  United-States      |  <=50K.             |\n",
       "| 34                  |  Private            | 198693              |  10th               |  6                  |  Never-married      |  Other-service      |  Not-in-family      |  White              |  Male               |    0                | 0                   | 30                  |  United-States      |  <=50K.             |\n",
       "\n"
      ],
      "text/plain": [
       "  age workclass  fnlwgt education     education.num marital.status     \n",
       "1 25   Private   226802  11th          7             Never-married     \n",
       "2 38   Private    89814  HS-grad       9             Married-civ-spouse\n",
       "3 28   Local-gov 336951  Assoc-acdm   12             Married-civ-spouse\n",
       "4 44   Private   160323  Some-college 10             Married-civ-spouse\n",
       "5 18   ?         103497  Some-college 10             Never-married     \n",
       "6 34   Private   198693  10th          6             Never-married     \n",
       "  occupation         relationship   race   sex     capital.gain capital.loss\n",
       "1  Machine-op-inspct  Own-child      Black  Male      0         0           \n",
       "2  Farming-fishing    Husband        White  Male      0         0           \n",
       "3  Protective-serv    Husband        White  Male      0         0           \n",
       "4  Machine-op-inspct  Husband        Black  Male   7688         0           \n",
       "5  ?                  Own-child      White  Female    0         0           \n",
       "6  Other-service      Not-in-family  White  Male      0         0           \n",
       "  hours.per.week native.country class  \n",
       "1 40              United-States  <=50K.\n",
       "2 50              United-States  <=50K.\n",
       "3 40              United-States  >50K. \n",
       "4 40              United-States  >50K. \n",
       "5 30              United-States  <=50K.\n",
       "6 30              United-States  <=50K."
      ]
     },
     "metadata": {},
     "output_type": "display_data"
    },
    {
     "data": {
      "text/html": [
       "<table>\n",
       "<thead><tr><th scope=col>age</th><th scope=col>workclass</th><th scope=col>fnlwgt</th><th scope=col>education</th><th scope=col>education.num</th><th scope=col>marital.status</th><th scope=col>occupation</th><th scope=col>relationship</th><th scope=col>race</th><th scope=col>sex</th><th scope=col>capital.gain</th><th scope=col>capital.loss</th><th scope=col>hours.per.week</th><th scope=col>native.country</th><th scope=col>class</th></tr></thead>\n",
       "<tbody>\n",
       "\t<tr><td>39                                                         </td><td><span style=white-space:pre-wrap> State-gov       </span>  </td><td> 77516                                                     </td><td> Bachelors                                                 </td><td>13                                                         </td><td><span style=white-space:pre-wrap> Never-married     </span></td><td><span style=white-space:pre-wrap> Adm-clerical     </span> </td><td> Not-in-family                                             </td><td> White                                                     </td><td><span style=white-space:pre-wrap> Male  </span>            </td><td>2174                                                       </td><td>0                                                          </td><td>40                                                         </td><td> United-States                                             </td><td> &lt;=50K                                                  </td></tr>\n",
       "\t<tr><td>50                                                        </td><td> Self-emp-not-inc                                         </td><td> 83311                                                    </td><td> Bachelors                                                </td><td>13                                                        </td><td> Married-civ-spouse                                       </td><td><span style=white-space:pre-wrap> Exec-managerial  </span></td><td><span style=white-space:pre-wrap> Husband      </span>    </td><td> White                                                    </td><td><span style=white-space:pre-wrap> Male  </span>           </td><td><span style=white-space:pre-wrap>   0</span>              </td><td>0                                                         </td><td>13                                                        </td><td> United-States                                            </td><td> &lt;=50K                                                 </td></tr>\n",
       "\t<tr><td>38                                                         </td><td><span style=white-space:pre-wrap> Private         </span>  </td><td>215646                                                     </td><td><span style=white-space:pre-wrap> HS-grad  </span>         </td><td> 9                                                         </td><td><span style=white-space:pre-wrap> Divorced          </span></td><td> Handlers-cleaners                                         </td><td> Not-in-family                                             </td><td> White                                                     </td><td><span style=white-space:pre-wrap> Male  </span>            </td><td><span style=white-space:pre-wrap>   0</span>               </td><td>0                                                          </td><td>40                                                         </td><td> United-States                                             </td><td> &lt;=50K                                                  </td></tr>\n",
       "\t<tr><td>53                                                       </td><td><span style=white-space:pre-wrap> Private         </span></td><td>234721                                                   </td><td><span style=white-space:pre-wrap> 11th     </span>       </td><td> 7                                                       </td><td> Married-civ-spouse                                      </td><td> Handlers-cleaners                                       </td><td><span style=white-space:pre-wrap> Husband      </span>   </td><td> Black                                                   </td><td><span style=white-space:pre-wrap> Male  </span>          </td><td><span style=white-space:pre-wrap>   0</span>             </td><td>0                                                        </td><td>40                                                       </td><td> United-States                                           </td><td> &lt;=50K                                                </td></tr>\n",
       "\t<tr><td>28                                                        </td><td><span style=white-space:pre-wrap> Private         </span> </td><td>338409                                                    </td><td> Bachelors                                                </td><td>13                                                        </td><td> Married-civ-spouse                                       </td><td><span style=white-space:pre-wrap> Prof-specialty   </span></td><td><span style=white-space:pre-wrap> Wife         </span>    </td><td> Black                                                    </td><td> Female                                                   </td><td><span style=white-space:pre-wrap>   0</span>              </td><td>0                                                         </td><td>40                                                        </td><td><span style=white-space:pre-wrap> Cuba         </span>    </td><td> &lt;=50K                                                 </td></tr>\n",
       "\t<tr><td>37                                                        </td><td><span style=white-space:pre-wrap> Private         </span> </td><td>284582                                                    </td><td><span style=white-space:pre-wrap> Masters  </span>        </td><td>14                                                        </td><td> Married-civ-spouse                                       </td><td><span style=white-space:pre-wrap> Exec-managerial  </span></td><td><span style=white-space:pre-wrap> Wife         </span>    </td><td> White                                                    </td><td> Female                                                   </td><td><span style=white-space:pre-wrap>   0</span>              </td><td>0                                                         </td><td>40                                                        </td><td> United-States                                            </td><td> &lt;=50K                                                 </td></tr>\n",
       "</tbody>\n",
       "</table>\n"
      ],
      "text/latex": [
       "\\begin{tabular}{r|lllllllllllllll}\n",
       " age & workclass & fnlwgt & education & education.num & marital.status & occupation & relationship & race & sex & capital.gain & capital.loss & hours.per.week & native.country & class\\\\\n",
       "\\hline\n",
       "\t 39                  &  State-gov          &  77516              &  Bachelors          & 13                  &  Never-married      &  Adm-clerical       &  Not-in-family      &  White              &  Male               & 2174                & 0                   & 40                  &  United-States      &  <=50K             \\\\\n",
       "\t 50                  &  Self-emp-not-inc   &  83311              &  Bachelors          & 13                  &  Married-civ-spouse &  Exec-managerial    &  Husband            &  White              &  Male               &    0                & 0                   & 13                  &  United-States      &  <=50K             \\\\\n",
       "\t 38                  &  Private            & 215646              &  HS-grad            &  9                  &  Divorced           &  Handlers-cleaners  &  Not-in-family      &  White              &  Male               &    0                & 0                   & 40                  &  United-States      &  <=50K             \\\\\n",
       "\t 53                  &  Private            & 234721              &  11th               &  7                  &  Married-civ-spouse &  Handlers-cleaners  &  Husband            &  Black              &  Male               &    0                & 0                   & 40                  &  United-States      &  <=50K             \\\\\n",
       "\t 28                  &  Private            & 338409              &  Bachelors          & 13                  &  Married-civ-spouse &  Prof-specialty     &  Wife               &  Black              &  Female             &    0                & 0                   & 40                  &  Cuba               &  <=50K             \\\\\n",
       "\t 37                  &  Private            & 284582              &  Masters            & 14                  &  Married-civ-spouse &  Exec-managerial    &  Wife               &  White              &  Female             &    0                & 0                   & 40                  &  United-States      &  <=50K             \\\\\n",
       "\\end{tabular}\n"
      ],
      "text/markdown": [
       "\n",
       "| age | workclass | fnlwgt | education | education.num | marital.status | occupation | relationship | race | sex | capital.gain | capital.loss | hours.per.week | native.country | class |\n",
       "|---|---|---|---|---|---|---|---|---|---|---|---|---|---|---|\n",
       "| 39                  |  State-gov          |  77516              |  Bachelors          | 13                  |  Never-married      |  Adm-clerical       |  Not-in-family      |  White              |  Male               | 2174                | 0                   | 40                  |  United-States      |  <=50K              |\n",
       "| 50                  |  Self-emp-not-inc   |  83311              |  Bachelors          | 13                  |  Married-civ-spouse |  Exec-managerial    |  Husband            |  White              |  Male               |    0                | 0                   | 13                  |  United-States      |  <=50K              |\n",
       "| 38                  |  Private            | 215646              |  HS-grad            |  9                  |  Divorced           |  Handlers-cleaners  |  Not-in-family      |  White              |  Male               |    0                | 0                   | 40                  |  United-States      |  <=50K              |\n",
       "| 53                  |  Private            | 234721              |  11th               |  7                  |  Married-civ-spouse |  Handlers-cleaners  |  Husband            |  Black              |  Male               |    0                | 0                   | 40                  |  United-States      |  <=50K              |\n",
       "| 28                  |  Private            | 338409              |  Bachelors          | 13                  |  Married-civ-spouse |  Prof-specialty     |  Wife               |  Black              |  Female             |    0                | 0                   | 40                  |  Cuba               |  <=50K              |\n",
       "| 37                  |  Private            | 284582              |  Masters            | 14                  |  Married-civ-spouse |  Exec-managerial    |  Wife               |  White              |  Female             |    0                | 0                   | 40                  |  United-States      |  <=50K              |\n",
       "\n"
      ],
      "text/plain": [
       "  age workclass         fnlwgt education  education.num marital.status     \n",
       "1 39   State-gov         77516  Bachelors 13             Never-married     \n",
       "2 50   Self-emp-not-inc  83311  Bachelors 13             Married-civ-spouse\n",
       "3 38   Private          215646  HS-grad    9             Divorced          \n",
       "4 53   Private          234721  11th       7             Married-civ-spouse\n",
       "5 28   Private          338409  Bachelors 13             Married-civ-spouse\n",
       "6 37   Private          284582  Masters   14             Married-civ-spouse\n",
       "  occupation         relationship   race   sex     capital.gain capital.loss\n",
       "1  Adm-clerical       Not-in-family  White  Male   2174         0           \n",
       "2  Exec-managerial    Husband        White  Male      0         0           \n",
       "3  Handlers-cleaners  Not-in-family  White  Male      0         0           \n",
       "4  Handlers-cleaners  Husband        Black  Male      0         0           \n",
       "5  Prof-specialty     Wife           Black  Female    0         0           \n",
       "6  Exec-managerial    Wife           White  Female    0         0           \n",
       "  hours.per.week native.country class \n",
       "1 40              United-States  <=50K\n",
       "2 13              United-States  <=50K\n",
       "3 40              United-States  <=50K\n",
       "4 40              United-States  <=50K\n",
       "5 40              Cuba           <=50K\n",
       "6 40              United-States  <=50K"
      ]
     },
     "metadata": {},
     "output_type": "display_data"
    },
    {
     "data": {
      "text/html": [
       "<ol class=list-inline>\n",
       "\t<li>' ?'</li>\n",
       "\t<li>' Cambodia'</li>\n",
       "\t<li>' Canada'</li>\n",
       "\t<li>' China'</li>\n",
       "\t<li>' Columbia'</li>\n",
       "\t<li>' Cuba'</li>\n",
       "\t<li>' Dominican-Republic'</li>\n",
       "\t<li>' Ecuador'</li>\n",
       "\t<li>' El-Salvador'</li>\n",
       "\t<li>' England'</li>\n",
       "\t<li>' France'</li>\n",
       "\t<li>' Germany'</li>\n",
       "\t<li>' Greece'</li>\n",
       "\t<li>' Guatemala'</li>\n",
       "\t<li>' Haiti'</li>\n",
       "\t<li>' Honduras'</li>\n",
       "\t<li>' Hong'</li>\n",
       "\t<li>' Hungary'</li>\n",
       "\t<li>' India'</li>\n",
       "\t<li>' Iran'</li>\n",
       "\t<li>' Ireland'</li>\n",
       "\t<li>' Italy'</li>\n",
       "\t<li>' Jamaica'</li>\n",
       "\t<li>' Japan'</li>\n",
       "\t<li>' Laos'</li>\n",
       "\t<li>' Mexico'</li>\n",
       "\t<li>' Nicaragua'</li>\n",
       "\t<li>' Outlying-US(Guam-USVI-etc)'</li>\n",
       "\t<li>' Peru'</li>\n",
       "\t<li>' Philippines'</li>\n",
       "\t<li>' Poland'</li>\n",
       "\t<li>' Portugal'</li>\n",
       "\t<li>' Puerto-Rico'</li>\n",
       "\t<li>' Scotland'</li>\n",
       "\t<li>' South'</li>\n",
       "\t<li>' Taiwan'</li>\n",
       "\t<li>' Thailand'</li>\n",
       "\t<li>' Trinadad&amp;Tobago'</li>\n",
       "\t<li>' United-States'</li>\n",
       "\t<li>' Vietnam'</li>\n",
       "\t<li>' Yugoslavia'</li>\n",
       "</ol>\n"
      ],
      "text/latex": [
       "\\begin{enumerate*}\n",
       "\\item ' ?'\n",
       "\\item ' Cambodia'\n",
       "\\item ' Canada'\n",
       "\\item ' China'\n",
       "\\item ' Columbia'\n",
       "\\item ' Cuba'\n",
       "\\item ' Dominican-Republic'\n",
       "\\item ' Ecuador'\n",
       "\\item ' El-Salvador'\n",
       "\\item ' England'\n",
       "\\item ' France'\n",
       "\\item ' Germany'\n",
       "\\item ' Greece'\n",
       "\\item ' Guatemala'\n",
       "\\item ' Haiti'\n",
       "\\item ' Honduras'\n",
       "\\item ' Hong'\n",
       "\\item ' Hungary'\n",
       "\\item ' India'\n",
       "\\item ' Iran'\n",
       "\\item ' Ireland'\n",
       "\\item ' Italy'\n",
       "\\item ' Jamaica'\n",
       "\\item ' Japan'\n",
       "\\item ' Laos'\n",
       "\\item ' Mexico'\n",
       "\\item ' Nicaragua'\n",
       "\\item ' Outlying-US(Guam-USVI-etc)'\n",
       "\\item ' Peru'\n",
       "\\item ' Philippines'\n",
       "\\item ' Poland'\n",
       "\\item ' Portugal'\n",
       "\\item ' Puerto-Rico'\n",
       "\\item ' Scotland'\n",
       "\\item ' South'\n",
       "\\item ' Taiwan'\n",
       "\\item ' Thailand'\n",
       "\\item ' Trinadad\\&Tobago'\n",
       "\\item ' United-States'\n",
       "\\item ' Vietnam'\n",
       "\\item ' Yugoslavia'\n",
       "\\end{enumerate*}\n"
      ],
      "text/markdown": [
       "1. ' ?'\n",
       "2. ' Cambodia'\n",
       "3. ' Canada'\n",
       "4. ' China'\n",
       "5. ' Columbia'\n",
       "6. ' Cuba'\n",
       "7. ' Dominican-Republic'\n",
       "8. ' Ecuador'\n",
       "9. ' El-Salvador'\n",
       "10. ' England'\n",
       "11. ' France'\n",
       "12. ' Germany'\n",
       "13. ' Greece'\n",
       "14. ' Guatemala'\n",
       "15. ' Haiti'\n",
       "16. ' Honduras'\n",
       "17. ' Hong'\n",
       "18. ' Hungary'\n",
       "19. ' India'\n",
       "20. ' Iran'\n",
       "21. ' Ireland'\n",
       "22. ' Italy'\n",
       "23. ' Jamaica'\n",
       "24. ' Japan'\n",
       "25. ' Laos'\n",
       "26. ' Mexico'\n",
       "27. ' Nicaragua'\n",
       "28. ' Outlying-US(Guam-USVI-etc)'\n",
       "29. ' Peru'\n",
       "30. ' Philippines'\n",
       "31. ' Poland'\n",
       "32. ' Portugal'\n",
       "33. ' Puerto-Rico'\n",
       "34. ' Scotland'\n",
       "35. ' South'\n",
       "36. ' Taiwan'\n",
       "37. ' Thailand'\n",
       "38. ' Trinadad&amp;Tobago'\n",
       "39. ' United-States'\n",
       "40. ' Vietnam'\n",
       "41. ' Yugoslavia'\n",
       "\n",
       "\n"
      ],
      "text/plain": [
       " [1] \" ?\"                          \" Cambodia\"                  \n",
       " [3] \" Canada\"                     \" China\"                     \n",
       " [5] \" Columbia\"                   \" Cuba\"                      \n",
       " [7] \" Dominican-Republic\"         \" Ecuador\"                   \n",
       " [9] \" El-Salvador\"                \" England\"                   \n",
       "[11] \" France\"                     \" Germany\"                   \n",
       "[13] \" Greece\"                     \" Guatemala\"                 \n",
       "[15] \" Haiti\"                      \" Honduras\"                  \n",
       "[17] \" Hong\"                       \" Hungary\"                   \n",
       "[19] \" India\"                      \" Iran\"                      \n",
       "[21] \" Ireland\"                    \" Italy\"                     \n",
       "[23] \" Jamaica\"                    \" Japan\"                     \n",
       "[25] \" Laos\"                       \" Mexico\"                    \n",
       "[27] \" Nicaragua\"                  \" Outlying-US(Guam-USVI-etc)\"\n",
       "[29] \" Peru\"                       \" Philippines\"               \n",
       "[31] \" Poland\"                     \" Portugal\"                  \n",
       "[33] \" Puerto-Rico\"                \" Scotland\"                  \n",
       "[35] \" South\"                      \" Taiwan\"                    \n",
       "[37] \" Thailand\"                   \" Trinadad&Tobago\"           \n",
       "[39] \" United-States\"              \" Vietnam\"                   \n",
       "[41] \" Yugoslavia\"                "
      ]
     },
     "metadata": {},
     "output_type": "display_data"
    },
    {
     "data": {
      "text/html": [
       "<ol class=list-inline>\n",
       "\t<li>' ?'</li>\n",
       "\t<li>' Cambodia'</li>\n",
       "\t<li>' Canada'</li>\n",
       "\t<li>' China'</li>\n",
       "\t<li>' Columbia'</li>\n",
       "\t<li>' Cuba'</li>\n",
       "\t<li>' Dominican-Republic'</li>\n",
       "\t<li>' Ecuador'</li>\n",
       "\t<li>' El-Salvador'</li>\n",
       "\t<li>' England'</li>\n",
       "\t<li>' France'</li>\n",
       "\t<li>' Germany'</li>\n",
       "\t<li>' Greece'</li>\n",
       "\t<li>' Guatemala'</li>\n",
       "\t<li>' Haiti'</li>\n",
       "\t<li>' Holand-Netherlands'</li>\n",
       "\t<li>' Honduras'</li>\n",
       "\t<li>' Hong'</li>\n",
       "\t<li>' Hungary'</li>\n",
       "\t<li>' India'</li>\n",
       "\t<li>' Iran'</li>\n",
       "\t<li>' Ireland'</li>\n",
       "\t<li>' Italy'</li>\n",
       "\t<li>' Jamaica'</li>\n",
       "\t<li>' Japan'</li>\n",
       "\t<li>' Laos'</li>\n",
       "\t<li>' Mexico'</li>\n",
       "\t<li>' Nicaragua'</li>\n",
       "\t<li>' Outlying-US(Guam-USVI-etc)'</li>\n",
       "\t<li>' Peru'</li>\n",
       "\t<li>' Philippines'</li>\n",
       "\t<li>' Poland'</li>\n",
       "\t<li>' Portugal'</li>\n",
       "\t<li>' Puerto-Rico'</li>\n",
       "\t<li>' Scotland'</li>\n",
       "\t<li>' South'</li>\n",
       "\t<li>' Taiwan'</li>\n",
       "\t<li>' Thailand'</li>\n",
       "\t<li>' Trinadad&amp;Tobago'</li>\n",
       "\t<li>' United-States'</li>\n",
       "\t<li>' Vietnam'</li>\n",
       "\t<li>' Yugoslavia'</li>\n",
       "</ol>\n"
      ],
      "text/latex": [
       "\\begin{enumerate*}\n",
       "\\item ' ?'\n",
       "\\item ' Cambodia'\n",
       "\\item ' Canada'\n",
       "\\item ' China'\n",
       "\\item ' Columbia'\n",
       "\\item ' Cuba'\n",
       "\\item ' Dominican-Republic'\n",
       "\\item ' Ecuador'\n",
       "\\item ' El-Salvador'\n",
       "\\item ' England'\n",
       "\\item ' France'\n",
       "\\item ' Germany'\n",
       "\\item ' Greece'\n",
       "\\item ' Guatemala'\n",
       "\\item ' Haiti'\n",
       "\\item ' Holand-Netherlands'\n",
       "\\item ' Honduras'\n",
       "\\item ' Hong'\n",
       "\\item ' Hungary'\n",
       "\\item ' India'\n",
       "\\item ' Iran'\n",
       "\\item ' Ireland'\n",
       "\\item ' Italy'\n",
       "\\item ' Jamaica'\n",
       "\\item ' Japan'\n",
       "\\item ' Laos'\n",
       "\\item ' Mexico'\n",
       "\\item ' Nicaragua'\n",
       "\\item ' Outlying-US(Guam-USVI-etc)'\n",
       "\\item ' Peru'\n",
       "\\item ' Philippines'\n",
       "\\item ' Poland'\n",
       "\\item ' Portugal'\n",
       "\\item ' Puerto-Rico'\n",
       "\\item ' Scotland'\n",
       "\\item ' South'\n",
       "\\item ' Taiwan'\n",
       "\\item ' Thailand'\n",
       "\\item ' Trinadad\\&Tobago'\n",
       "\\item ' United-States'\n",
       "\\item ' Vietnam'\n",
       "\\item ' Yugoslavia'\n",
       "\\end{enumerate*}\n"
      ],
      "text/markdown": [
       "1. ' ?'\n",
       "2. ' Cambodia'\n",
       "3. ' Canada'\n",
       "4. ' China'\n",
       "5. ' Columbia'\n",
       "6. ' Cuba'\n",
       "7. ' Dominican-Republic'\n",
       "8. ' Ecuador'\n",
       "9. ' El-Salvador'\n",
       "10. ' England'\n",
       "11. ' France'\n",
       "12. ' Germany'\n",
       "13. ' Greece'\n",
       "14. ' Guatemala'\n",
       "15. ' Haiti'\n",
       "16. ' Holand-Netherlands'\n",
       "17. ' Honduras'\n",
       "18. ' Hong'\n",
       "19. ' Hungary'\n",
       "20. ' India'\n",
       "21. ' Iran'\n",
       "22. ' Ireland'\n",
       "23. ' Italy'\n",
       "24. ' Jamaica'\n",
       "25. ' Japan'\n",
       "26. ' Laos'\n",
       "27. ' Mexico'\n",
       "28. ' Nicaragua'\n",
       "29. ' Outlying-US(Guam-USVI-etc)'\n",
       "30. ' Peru'\n",
       "31. ' Philippines'\n",
       "32. ' Poland'\n",
       "33. ' Portugal'\n",
       "34. ' Puerto-Rico'\n",
       "35. ' Scotland'\n",
       "36. ' South'\n",
       "37. ' Taiwan'\n",
       "38. ' Thailand'\n",
       "39. ' Trinadad&amp;Tobago'\n",
       "40. ' United-States'\n",
       "41. ' Vietnam'\n",
       "42. ' Yugoslavia'\n",
       "\n",
       "\n"
      ],
      "text/plain": [
       " [1] \" ?\"                          \" Cambodia\"                  \n",
       " [3] \" Canada\"                     \" China\"                     \n",
       " [5] \" Columbia\"                   \" Cuba\"                      \n",
       " [7] \" Dominican-Republic\"         \" Ecuador\"                   \n",
       " [9] \" El-Salvador\"                \" England\"                   \n",
       "[11] \" France\"                     \" Germany\"                   \n",
       "[13] \" Greece\"                     \" Guatemala\"                 \n",
       "[15] \" Haiti\"                      \" Holand-Netherlands\"        \n",
       "[17] \" Honduras\"                   \" Hong\"                      \n",
       "[19] \" Hungary\"                    \" India\"                     \n",
       "[21] \" Iran\"                       \" Ireland\"                   \n",
       "[23] \" Italy\"                      \" Jamaica\"                   \n",
       "[25] \" Japan\"                      \" Laos\"                      \n",
       "[27] \" Mexico\"                     \" Nicaragua\"                 \n",
       "[29] \" Outlying-US(Guam-USVI-etc)\" \" Peru\"                      \n",
       "[31] \" Philippines\"                \" Poland\"                    \n",
       "[33] \" Portugal\"                   \" Puerto-Rico\"               \n",
       "[35] \" Scotland\"                   \" South\"                     \n",
       "[37] \" Taiwan\"                     \" Thailand\"                  \n",
       "[39] \" Trinadad&Tobago\"            \" United-States\"             \n",
       "[41] \" Vietnam\"                    \" Yugoslavia\"                "
      ]
     },
     "metadata": {},
     "output_type": "display_data"
    }
   ],
   "source": [
    "#see the names atributes of the data, as well as RAM memory size, and structure of the file\n",
    "names(au_test)\n",
    "names(au_train)\n",
    "file.info(\"~/Downloads/au_test.csv\")$size #bytes\n",
    "file.info(\"~/Downloads/au_train.csv\")$size #bytes\n",
    "str(au_test)\n",
    "str(au_train)\n",
    "head(au_test)\n",
    "head(au_train)\n",
    "levels(au_test$native.country)\n",
    "levels(au_train$native.country)"
   ]
  },
  {
   "cell_type": "code",
   "execution_count": 3,
   "id": "c718f206",
   "metadata": {
    "scrolled": true
   },
   "outputs": [
    {
     "data": {
      "text/html": [
       "<ol class=list-inline>\n",
       "\t<li>'age'</li>\n",
       "\t<li>'workclass'</li>\n",
       "\t<li>'fnlwgt'</li>\n",
       "\t<li>'education'</li>\n",
       "\t<li>'education.num'</li>\n",
       "\t<li>'marital.status'</li>\n",
       "\t<li>'occupation'</li>\n",
       "\t<li>'relationship'</li>\n",
       "\t<li>'race'</li>\n",
       "\t<li>'sex'</li>\n",
       "\t<li>'capital.gain'</li>\n",
       "\t<li>'capital.loss'</li>\n",
       "\t<li>'hours.per.week'</li>\n",
       "\t<li>'native.country'</li>\n",
       "\t<li>'Salary'</li>\n",
       "</ol>\n"
      ],
      "text/latex": [
       "\\begin{enumerate*}\n",
       "\\item 'age'\n",
       "\\item 'workclass'\n",
       "\\item 'fnlwgt'\n",
       "\\item 'education'\n",
       "\\item 'education.num'\n",
       "\\item 'marital.status'\n",
       "\\item 'occupation'\n",
       "\\item 'relationship'\n",
       "\\item 'race'\n",
       "\\item 'sex'\n",
       "\\item 'capital.gain'\n",
       "\\item 'capital.loss'\n",
       "\\item 'hours.per.week'\n",
       "\\item 'native.country'\n",
       "\\item 'Salary'\n",
       "\\end{enumerate*}\n"
      ],
      "text/markdown": [
       "1. 'age'\n",
       "2. 'workclass'\n",
       "3. 'fnlwgt'\n",
       "4. 'education'\n",
       "5. 'education.num'\n",
       "6. 'marital.status'\n",
       "7. 'occupation'\n",
       "8. 'relationship'\n",
       "9. 'race'\n",
       "10. 'sex'\n",
       "11. 'capital.gain'\n",
       "12. 'capital.loss'\n",
       "13. 'hours.per.week'\n",
       "14. 'native.country'\n",
       "15. 'Salary'\n",
       "\n",
       "\n"
      ],
      "text/plain": [
       " [1] \"age\"            \"workclass\"      \"fnlwgt\"         \"education\"     \n",
       " [5] \"education.num\"  \"marital.status\" \"occupation\"     \"relationship\"  \n",
       " [9] \"race\"           \"sex\"            \"capital.gain\"   \"capital.loss\"  \n",
       "[13] \"hours.per.week\" \"native.country\" \"Salary\"        "
      ]
     },
     "metadata": {},
     "output_type": "display_data"
    },
    {
     "data": {
      "text/html": [
       "<ol class=list-inline>\n",
       "\t<li>'age'</li>\n",
       "\t<li>'workclass'</li>\n",
       "\t<li>'fnlwgt'</li>\n",
       "\t<li>'education'</li>\n",
       "\t<li>'education.num'</li>\n",
       "\t<li>'marital.status'</li>\n",
       "\t<li>'occupation'</li>\n",
       "\t<li>'relationship'</li>\n",
       "\t<li>'race'</li>\n",
       "\t<li>'sex'</li>\n",
       "\t<li>'capital.gain'</li>\n",
       "\t<li>'capital.loss'</li>\n",
       "\t<li>'hours.per.week'</li>\n",
       "\t<li>'native.country'</li>\n",
       "\t<li>'Salary'</li>\n",
       "</ol>\n"
      ],
      "text/latex": [
       "\\begin{enumerate*}\n",
       "\\item 'age'\n",
       "\\item 'workclass'\n",
       "\\item 'fnlwgt'\n",
       "\\item 'education'\n",
       "\\item 'education.num'\n",
       "\\item 'marital.status'\n",
       "\\item 'occupation'\n",
       "\\item 'relationship'\n",
       "\\item 'race'\n",
       "\\item 'sex'\n",
       "\\item 'capital.gain'\n",
       "\\item 'capital.loss'\n",
       "\\item 'hours.per.week'\n",
       "\\item 'native.country'\n",
       "\\item 'Salary'\n",
       "\\end{enumerate*}\n"
      ],
      "text/markdown": [
       "1. 'age'\n",
       "2. 'workclass'\n",
       "3. 'fnlwgt'\n",
       "4. 'education'\n",
       "5. 'education.num'\n",
       "6. 'marital.status'\n",
       "7. 'occupation'\n",
       "8. 'relationship'\n",
       "9. 'race'\n",
       "10. 'sex'\n",
       "11. 'capital.gain'\n",
       "12. 'capital.loss'\n",
       "13. 'hours.per.week'\n",
       "14. 'native.country'\n",
       "15. 'Salary'\n",
       "\n",
       "\n"
      ],
      "text/plain": [
       " [1] \"age\"            \"workclass\"      \"fnlwgt\"         \"education\"     \n",
       " [5] \"education.num\"  \"marital.status\" \"occupation\"     \"relationship\"  \n",
       " [9] \"race\"           \"sex\"            \"capital.gain\"   \"capital.loss\"  \n",
       "[13] \"hours.per.week\" \"native.country\" \"Salary\"        "
      ]
     },
     "metadata": {},
     "output_type": "display_data"
    },
    {
     "name": "stdout",
     "output_type": "stream",
     "text": [
      "'data.frame':\t16281 obs. of  15 variables:\n",
      " $ age           : int  25 38 28 44 18 34 29 63 24 55 ...\n",
      " $ workclass     : Factor w/ 9 levels \" ?\",\" Federal-gov\",..: 5 5 3 5 1 5 1 7 5 5 ...\n",
      " $ fnlwgt        : int  226802 89814 336951 160323 103497 198693 227026 104626 369667 104996 ...\n",
      " $ education     : Factor w/ 16 levels \" 10th\",\" 11th\",..: 2 12 8 16 16 1 12 15 16 6 ...\n",
      " $ education.num : int  7 9 12 10 10 6 9 15 10 4 ...\n",
      " $ marital.status: Factor w/ 7 levels \" Divorced\",\" Married-AF-spouse\",..: 5 3 3 3 5 5 5 3 5 3 ...\n",
      " $ occupation    : Factor w/ 15 levels \" ?\",\" Adm-clerical\",..: 8 6 12 8 1 9 1 11 9 4 ...\n",
      " $ relationship  : Factor w/ 6 levels \" Husband\",\" Not-in-family\",..: 4 1 1 1 4 2 5 1 5 1 ...\n",
      " $ race          : Factor w/ 5 levels \" Amer-Indian-Eskimo\",..: 3 5 5 3 5 5 3 5 5 5 ...\n",
      " $ sex           : Factor w/ 2 levels \" Female\",\" Male\": 2 2 2 2 1 2 2 2 1 2 ...\n",
      " $ capital.gain  : int  0 0 0 7688 0 0 0 3103 0 0 ...\n",
      " $ capital.loss  : int  0 0 0 0 0 0 0 0 0 0 ...\n",
      " $ hours.per.week: int  40 50 40 40 30 30 40 32 40 10 ...\n",
      " $ native.country: Factor w/ 41 levels \" ?\",\" Cambodia\",..: 39 39 39 39 39 39 39 39 39 39 ...\n",
      " $ Salary        : Factor w/ 2 levels \" <=50K.\",\" >50K.\": 1 1 2 2 1 1 1 2 1 1 ...\n",
      "'data.frame':\t32561 obs. of  15 variables:\n",
      " $ age           : int  39 50 38 53 28 37 49 52 31 42 ...\n",
      " $ workclass     : Factor w/ 9 levels \" ?\",\" Federal-gov\",..: 8 7 5 5 5 5 5 7 5 5 ...\n",
      " $ fnlwgt        : int  77516 83311 215646 234721 338409 284582 160187 209642 45781 159449 ...\n",
      " $ education     : Factor w/ 16 levels \" 10th\",\" 11th\",..: 10 10 12 2 10 13 7 12 13 10 ...\n",
      " $ education.num : int  13 13 9 7 13 14 5 9 14 13 ...\n",
      " $ marital.status: Factor w/ 7 levels \" Divorced\",\" Married-AF-spouse\",..: 5 3 1 3 3 3 4 3 5 3 ...\n",
      " $ occupation    : Factor w/ 15 levels \" ?\",\" Adm-clerical\",..: 2 5 7 7 11 5 9 5 11 5 ...\n",
      " $ relationship  : Factor w/ 6 levels \" Husband\",\" Not-in-family\",..: 2 1 2 1 6 6 2 1 2 1 ...\n",
      " $ race          : Factor w/ 5 levels \" Amer-Indian-Eskimo\",..: 5 5 5 3 3 5 3 5 5 5 ...\n",
      " $ sex           : Factor w/ 2 levels \" Female\",\" Male\": 2 2 2 2 1 1 1 2 1 2 ...\n",
      " $ capital.gain  : int  2174 0 0 0 0 0 0 0 14084 5178 ...\n",
      " $ capital.loss  : int  0 0 0 0 0 0 0 0 0 0 ...\n",
      " $ hours.per.week: int  40 13 40 40 40 40 16 45 50 40 ...\n",
      " $ native.country: Factor w/ 42 levels \" ?\",\" Cambodia\",..: 40 40 40 40 6 40 24 40 40 40 ...\n",
      " $ Salary        : Factor w/ 2 levels \" <=50K\",\" >50K\": 1 1 1 1 1 1 1 2 2 2 ...\n"
     ]
    }
   ],
   "source": [
    "#Change Class -> Salary names. \n",
    "\n",
    "names(au_test)[15] = 'Salary'\n",
    "names(au_test)\n",
    "names(au_train)[15] = 'Salary'\n",
    "names(au_train)\n",
    "str(au_test)\n",
    "str(au_train)"
   ]
  },
  {
   "cell_type": "code",
   "execution_count": 4,
   "id": "796173a8",
   "metadata": {},
   "outputs": [],
   "source": [
    "#DATA MANIPULATION"
   ]
  },
  {
   "cell_type": "code",
   "execution_count": 8,
   "id": "c704e24d",
   "metadata": {},
   "outputs": [
    {
     "data": {
      "text/html": [
       "<ol class=list-inline>\n",
       "\t<li>' ?'</li>\n",
       "\t<li>' Cambodia'</li>\n",
       "\t<li>' Canada'</li>\n",
       "\t<li>' China'</li>\n",
       "\t<li>' Columbia'</li>\n",
       "\t<li>' Cuba'</li>\n",
       "\t<li>' Dominican-Republic'</li>\n",
       "\t<li>' Ecuador'</li>\n",
       "\t<li>' El-Salvador'</li>\n",
       "\t<li>' England'</li>\n",
       "\t<li>' France'</li>\n",
       "\t<li>' Germany'</li>\n",
       "\t<li>' Greece'</li>\n",
       "\t<li>' Guatemala'</li>\n",
       "\t<li>' Haiti'</li>\n",
       "\t<li>' Holand-Netherlands'</li>\n",
       "\t<li>' Honduras'</li>\n",
       "\t<li>' Hong'</li>\n",
       "\t<li>' Hungary'</li>\n",
       "\t<li>' India'</li>\n",
       "\t<li>' Iran'</li>\n",
       "\t<li>' Ireland'</li>\n",
       "\t<li>' Italy'</li>\n",
       "\t<li>' Jamaica'</li>\n",
       "\t<li>' Japan'</li>\n",
       "\t<li>' Laos'</li>\n",
       "\t<li>' Mexico'</li>\n",
       "\t<li>' Nicaragua'</li>\n",
       "\t<li>' Outlying-US(Guam-USVI-etc)'</li>\n",
       "\t<li>' Peru'</li>\n",
       "\t<li>' Philippines'</li>\n",
       "\t<li>' Poland'</li>\n",
       "\t<li>' Portugal'</li>\n",
       "\t<li>' Puerto-Rico'</li>\n",
       "\t<li>' Scotland'</li>\n",
       "\t<li>' South'</li>\n",
       "\t<li>' Taiwan'</li>\n",
       "\t<li>' Thailand'</li>\n",
       "\t<li>' Trinadad&amp;Tobago'</li>\n",
       "\t<li>' United-States'</li>\n",
       "\t<li>' Vietnam'</li>\n",
       "\t<li>' Yugoslavia'</li>\n",
       "</ol>\n"
      ],
      "text/latex": [
       "\\begin{enumerate*}\n",
       "\\item ' ?'\n",
       "\\item ' Cambodia'\n",
       "\\item ' Canada'\n",
       "\\item ' China'\n",
       "\\item ' Columbia'\n",
       "\\item ' Cuba'\n",
       "\\item ' Dominican-Republic'\n",
       "\\item ' Ecuador'\n",
       "\\item ' El-Salvador'\n",
       "\\item ' England'\n",
       "\\item ' France'\n",
       "\\item ' Germany'\n",
       "\\item ' Greece'\n",
       "\\item ' Guatemala'\n",
       "\\item ' Haiti'\n",
       "\\item ' Holand-Netherlands'\n",
       "\\item ' Honduras'\n",
       "\\item ' Hong'\n",
       "\\item ' Hungary'\n",
       "\\item ' India'\n",
       "\\item ' Iran'\n",
       "\\item ' Ireland'\n",
       "\\item ' Italy'\n",
       "\\item ' Jamaica'\n",
       "\\item ' Japan'\n",
       "\\item ' Laos'\n",
       "\\item ' Mexico'\n",
       "\\item ' Nicaragua'\n",
       "\\item ' Outlying-US(Guam-USVI-etc)'\n",
       "\\item ' Peru'\n",
       "\\item ' Philippines'\n",
       "\\item ' Poland'\n",
       "\\item ' Portugal'\n",
       "\\item ' Puerto-Rico'\n",
       "\\item ' Scotland'\n",
       "\\item ' South'\n",
       "\\item ' Taiwan'\n",
       "\\item ' Thailand'\n",
       "\\item ' Trinadad\\&Tobago'\n",
       "\\item ' United-States'\n",
       "\\item ' Vietnam'\n",
       "\\item ' Yugoslavia'\n",
       "\\end{enumerate*}\n"
      ],
      "text/markdown": [
       "1. ' ?'\n",
       "2. ' Cambodia'\n",
       "3. ' Canada'\n",
       "4. ' China'\n",
       "5. ' Columbia'\n",
       "6. ' Cuba'\n",
       "7. ' Dominican-Republic'\n",
       "8. ' Ecuador'\n",
       "9. ' El-Salvador'\n",
       "10. ' England'\n",
       "11. ' France'\n",
       "12. ' Germany'\n",
       "13. ' Greece'\n",
       "14. ' Guatemala'\n",
       "15. ' Haiti'\n",
       "16. ' Holand-Netherlands'\n",
       "17. ' Honduras'\n",
       "18. ' Hong'\n",
       "19. ' Hungary'\n",
       "20. ' India'\n",
       "21. ' Iran'\n",
       "22. ' Ireland'\n",
       "23. ' Italy'\n",
       "24. ' Jamaica'\n",
       "25. ' Japan'\n",
       "26. ' Laos'\n",
       "27. ' Mexico'\n",
       "28. ' Nicaragua'\n",
       "29. ' Outlying-US(Guam-USVI-etc)'\n",
       "30. ' Peru'\n",
       "31. ' Philippines'\n",
       "32. ' Poland'\n",
       "33. ' Portugal'\n",
       "34. ' Puerto-Rico'\n",
       "35. ' Scotland'\n",
       "36. ' South'\n",
       "37. ' Taiwan'\n",
       "38. ' Thailand'\n",
       "39. ' Trinadad&amp;Tobago'\n",
       "40. ' United-States'\n",
       "41. ' Vietnam'\n",
       "42. ' Yugoslavia'\n",
       "\n",
       "\n"
      ],
      "text/plain": [
       " [1] \" ?\"                          \" Cambodia\"                  \n",
       " [3] \" Canada\"                     \" China\"                     \n",
       " [5] \" Columbia\"                   \" Cuba\"                      \n",
       " [7] \" Dominican-Republic\"         \" Ecuador\"                   \n",
       " [9] \" El-Salvador\"                \" England\"                   \n",
       "[11] \" France\"                     \" Germany\"                   \n",
       "[13] \" Greece\"                     \" Guatemala\"                 \n",
       "[15] \" Haiti\"                      \" Holand-Netherlands\"        \n",
       "[17] \" Honduras\"                   \" Hong\"                      \n",
       "[19] \" Hungary\"                    \" India\"                     \n",
       "[21] \" Iran\"                       \" Ireland\"                   \n",
       "[23] \" Italy\"                      \" Jamaica\"                   \n",
       "[25] \" Japan\"                      \" Laos\"                      \n",
       "[27] \" Mexico\"                     \" Nicaragua\"                 \n",
       "[29] \" Outlying-US(Guam-USVI-etc)\" \" Peru\"                      \n",
       "[31] \" Philippines\"                \" Poland\"                    \n",
       "[33] \" Portugal\"                   \" Puerto-Rico\"               \n",
       "[35] \" Scotland\"                   \" South\"                     \n",
       "[37] \" Taiwan\"                     \" Thailand\"                  \n",
       "[39] \" Trinadad&Tobago\"            \" United-States\"             \n",
       "[41] \" Vietnam\"                    \" Yugoslavia\"                "
      ]
     },
     "metadata": {},
     "output_type": "display_data"
    },
    {
     "data": {
      "text/html": [
       "<ol class=list-inline>\n",
       "\t<li>' ?'</li>\n",
       "\t<li>' Cambodia'</li>\n",
       "\t<li>' Canada'</li>\n",
       "\t<li>' China'</li>\n",
       "\t<li>' Columbia'</li>\n",
       "\t<li>' Cuba'</li>\n",
       "\t<li>' Dominican-Republic'</li>\n",
       "\t<li>' Ecuador'</li>\n",
       "\t<li>' El-Salvador'</li>\n",
       "\t<li>' England'</li>\n",
       "\t<li>' France'</li>\n",
       "\t<li>' Germany'</li>\n",
       "\t<li>' Greece'</li>\n",
       "\t<li>' Guatemala'</li>\n",
       "\t<li>' Haiti'</li>\n",
       "\t<li>' Holand-Netherlands'</li>\n",
       "\t<li>' Honduras'</li>\n",
       "\t<li>' Hong'</li>\n",
       "\t<li>' Hungary'</li>\n",
       "\t<li>' India'</li>\n",
       "\t<li>' Iran'</li>\n",
       "\t<li>' Ireland'</li>\n",
       "\t<li>' Italy'</li>\n",
       "\t<li>' Jamaica'</li>\n",
       "\t<li>' Japan'</li>\n",
       "\t<li>' Laos'</li>\n",
       "\t<li>' Mexico'</li>\n",
       "\t<li>' Nicaragua'</li>\n",
       "\t<li>' Outlying-US(Guam-USVI-etc)'</li>\n",
       "\t<li>' Peru'</li>\n",
       "\t<li>' Philippines'</li>\n",
       "\t<li>' Poland'</li>\n",
       "\t<li>' Portugal'</li>\n",
       "\t<li>' Puerto-Rico'</li>\n",
       "\t<li>' Scotland'</li>\n",
       "\t<li>' South'</li>\n",
       "\t<li>' Taiwan'</li>\n",
       "\t<li>' Thailand'</li>\n",
       "\t<li>' Trinadad&amp;Tobago'</li>\n",
       "\t<li>' United-States'</li>\n",
       "\t<li>' Vietnam'</li>\n",
       "\t<li>' Yugoslavia'</li>\n",
       "</ol>\n"
      ],
      "text/latex": [
       "\\begin{enumerate*}\n",
       "\\item ' ?'\n",
       "\\item ' Cambodia'\n",
       "\\item ' Canada'\n",
       "\\item ' China'\n",
       "\\item ' Columbia'\n",
       "\\item ' Cuba'\n",
       "\\item ' Dominican-Republic'\n",
       "\\item ' Ecuador'\n",
       "\\item ' El-Salvador'\n",
       "\\item ' England'\n",
       "\\item ' France'\n",
       "\\item ' Germany'\n",
       "\\item ' Greece'\n",
       "\\item ' Guatemala'\n",
       "\\item ' Haiti'\n",
       "\\item ' Holand-Netherlands'\n",
       "\\item ' Honduras'\n",
       "\\item ' Hong'\n",
       "\\item ' Hungary'\n",
       "\\item ' India'\n",
       "\\item ' Iran'\n",
       "\\item ' Ireland'\n",
       "\\item ' Italy'\n",
       "\\item ' Jamaica'\n",
       "\\item ' Japan'\n",
       "\\item ' Laos'\n",
       "\\item ' Mexico'\n",
       "\\item ' Nicaragua'\n",
       "\\item ' Outlying-US(Guam-USVI-etc)'\n",
       "\\item ' Peru'\n",
       "\\item ' Philippines'\n",
       "\\item ' Poland'\n",
       "\\item ' Portugal'\n",
       "\\item ' Puerto-Rico'\n",
       "\\item ' Scotland'\n",
       "\\item ' South'\n",
       "\\item ' Taiwan'\n",
       "\\item ' Thailand'\n",
       "\\item ' Trinadad\\&Tobago'\n",
       "\\item ' United-States'\n",
       "\\item ' Vietnam'\n",
       "\\item ' Yugoslavia'\n",
       "\\end{enumerate*}\n"
      ],
      "text/markdown": [
       "1. ' ?'\n",
       "2. ' Cambodia'\n",
       "3. ' Canada'\n",
       "4. ' China'\n",
       "5. ' Columbia'\n",
       "6. ' Cuba'\n",
       "7. ' Dominican-Republic'\n",
       "8. ' Ecuador'\n",
       "9. ' El-Salvador'\n",
       "10. ' England'\n",
       "11. ' France'\n",
       "12. ' Germany'\n",
       "13. ' Greece'\n",
       "14. ' Guatemala'\n",
       "15. ' Haiti'\n",
       "16. ' Holand-Netherlands'\n",
       "17. ' Honduras'\n",
       "18. ' Hong'\n",
       "19. ' Hungary'\n",
       "20. ' India'\n",
       "21. ' Iran'\n",
       "22. ' Ireland'\n",
       "23. ' Italy'\n",
       "24. ' Jamaica'\n",
       "25. ' Japan'\n",
       "26. ' Laos'\n",
       "27. ' Mexico'\n",
       "28. ' Nicaragua'\n",
       "29. ' Outlying-US(Guam-USVI-etc)'\n",
       "30. ' Peru'\n",
       "31. ' Philippines'\n",
       "32. ' Poland'\n",
       "33. ' Portugal'\n",
       "34. ' Puerto-Rico'\n",
       "35. ' Scotland'\n",
       "36. ' South'\n",
       "37. ' Taiwan'\n",
       "38. ' Thailand'\n",
       "39. ' Trinadad&amp;Tobago'\n",
       "40. ' United-States'\n",
       "41. ' Vietnam'\n",
       "42. ' Yugoslavia'\n",
       "\n",
       "\n"
      ],
      "text/plain": [
       " [1] \" ?\"                          \" Cambodia\"                  \n",
       " [3] \" Canada\"                     \" China\"                     \n",
       " [5] \" Columbia\"                   \" Cuba\"                      \n",
       " [7] \" Dominican-Republic\"         \" Ecuador\"                   \n",
       " [9] \" El-Salvador\"                \" England\"                   \n",
       "[11] \" France\"                     \" Germany\"                   \n",
       "[13] \" Greece\"                     \" Guatemala\"                 \n",
       "[15] \" Haiti\"                      \" Holand-Netherlands\"        \n",
       "[17] \" Honduras\"                   \" Hong\"                      \n",
       "[19] \" Hungary\"                    \" India\"                     \n",
       "[21] \" Iran\"                       \" Ireland\"                   \n",
       "[23] \" Italy\"                      \" Jamaica\"                   \n",
       "[25] \" Japan\"                      \" Laos\"                      \n",
       "[27] \" Mexico\"                     \" Nicaragua\"                 \n",
       "[29] \" Outlying-US(Guam-USVI-etc)\" \" Peru\"                      \n",
       "[31] \" Philippines\"                \" Poland\"                    \n",
       "[33] \" Portugal\"                   \" Puerto-Rico\"               \n",
       "[35] \" Scotland\"                   \" South\"                     \n",
       "[37] \" Taiwan\"                     \" Thailand\"                  \n",
       "[39] \" Trinadad&Tobago\"            \" United-States\"             \n",
       "[41] \" Vietnam\"                    \" Yugoslavia\"                "
      ]
     },
     "metadata": {},
     "output_type": "display_data"
    },
    {
     "name": "stdout",
     "output_type": "stream",
     "text": [
      "'data.frame':\t16281 obs. of  14 variables:\n",
      " $ age           : int  25 38 28 44 18 34 29 63 24 55 ...\n",
      " $ workclass     : Factor w/ 9 levels \" ?\",\" Federal-gov\",..: 5 5 3 5 1 5 1 7 5 5 ...\n",
      " $ fnlwgt        : int  226802 89814 336951 160323 103497 198693 227026 104626 369667 104996 ...\n",
      " $ education.num : int  7 9 12 10 10 6 9 15 10 4 ...\n",
      " $ marital.status: Factor w/ 7 levels \" Divorced\",\" Married-AF-spouse\",..: 5 3 3 3 5 5 5 3 5 3 ...\n",
      " $ occupation    : Factor w/ 15 levels \" ?\",\" Adm-clerical\",..: 8 6 12 8 1 9 1 11 9 4 ...\n",
      " $ relationship  : Factor w/ 6 levels \" Husband\",\" Not-in-family\",..: 4 1 1 1 4 2 5 1 5 1 ...\n",
      " $ race          : Factor w/ 5 levels \" Amer-Indian-Eskimo\",..: 3 5 5 3 5 5 3 5 5 5 ...\n",
      " $ sex           : Factor w/ 2 levels \" Female\",\" Male\": 2 2 2 2 1 2 2 2 1 2 ...\n",
      " $ capital.gain  : int  0 0 0 7688 0 0 0 3103 0 0 ...\n",
      " $ capital.loss  : int  0 0 0 0 0 0 0 0 0 0 ...\n",
      " $ hours.per.week: int  40 50 40 40 30 30 40 32 40 10 ...\n",
      " $ native.country: Factor w/ 42 levels \" ?\",\" Cambodia\",..: 39 39 39 39 39 39 39 39 39 39 ...\n",
      " $ Salary        : Factor w/ 2 levels \" <=50K\",\" >50K\": 1 1 2 2 1 1 1 2 1 1 ...\n",
      "'data.frame':\t32561 obs. of  15 variables:\n",
      " $ age           : int  39 50 38 53 28 37 49 52 31 42 ...\n",
      " $ workclass     : Factor w/ 9 levels \" ?\",\" Federal-gov\",..: 8 7 5 5 5 5 5 7 5 5 ...\n",
      " $ fnlwgt        : int  77516 83311 215646 234721 338409 284582 160187 209642 45781 159449 ...\n",
      " $ education     : Factor w/ 16 levels \" 10th\",\" 11th\",..: 10 10 12 2 10 13 7 12 13 10 ...\n",
      " $ education.num : int  13 13 9 7 13 14 5 9 14 13 ...\n",
      " $ marital.status: Factor w/ 7 levels \" Divorced\",\" Married-AF-spouse\",..: 5 3 1 3 3 3 4 3 5 3 ...\n",
      " $ occupation    : Factor w/ 15 levels \" ?\",\" Adm-clerical\",..: 2 5 7 7 11 5 9 5 11 5 ...\n",
      " $ relationship  : Factor w/ 6 levels \" Husband\",\" Not-in-family\",..: 2 1 2 1 6 6 2 1 2 1 ...\n",
      " $ race          : Factor w/ 5 levels \" Amer-Indian-Eskimo\",..: 5 5 5 3 3 5 3 5 5 5 ...\n",
      " $ sex           : Factor w/ 2 levels \" Female\",\" Male\": 2 2 2 2 1 1 1 2 1 2 ...\n",
      " $ capital.gain  : int  2174 0 0 0 0 0 0 0 14084 5178 ...\n",
      " $ capital.loss  : int  0 0 0 0 0 0 0 0 0 0 ...\n",
      " $ hours.per.week: int  40 13 40 40 40 40 16 45 50 40 ...\n",
      " $ native.country: Factor w/ 42 levels \" ?\",\" Cambodia\",..: 40 40 40 40 6 40 24 40 40 40 ...\n",
      " $ Salary        : Factor w/ 2 levels \" <=50K\",\" >50K\": 1 1 1 1 1 1 1 2 2 2 ...\n"
     ]
    }
   ],
   "source": [
    "#|***********YOU HAVE TO RUN THIS CELL TWICE BEFORE CONTINUING TO NEXT CELL IN ORDER FOR SORT() WORK*************|\n",
    "#Include ' Holand-Netherlands' level in the 'native.country' factor variable and sort it in descencing order. \n",
    "levels(au_test$native.country) = c(sort(levels(au_test$native.country)),' Holand-Netherlands')\n",
    "au_test$native.country[is.na(au_test$native.country)] = ' Holand-Netherlands'\n",
    "#makes sure everythig is equal in order\n",
    "levels(au_test$native.country)\n",
    "levels(au_train$native.country)\n",
    "#compare we have the same factor levels for native.country\n",
    "\n",
    "levels(au_test$Salary) = list(' <=50K'  = ' <=50K.', ' >50K' = ' >50K.')\n",
    "str(au_test)\n",
    "str(au_train)"
   ]
  },
  {
   "cell_type": "code",
   "execution_count": 9,
   "id": "8ad19159",
   "metadata": {},
   "outputs": [
    {
     "ename": "ERROR",
     "evalue": "Error in eval(substitute(select), nl, parent.frame()): object 'education' not found\n",
     "output_type": "error",
     "traceback": [
      "Error in eval(substitute(select), nl, parent.frame()): object 'education' not found\nTraceback:\n",
      "1. subset(au_test, select = -c(education))",
      "2. subset.data.frame(au_test, select = -c(education))",
      "3. eval(substitute(select), nl, parent.frame())",
      "4. eval(substitute(select), nl, parent.frame())"
     ]
    }
   ],
   "source": [
    "#Drop 'education' so we only use education.num given \n",
    "#that these two are the same info.\n",
    "#In the code below, we are telling R to drop variable 'education'. \n",
    "#The '-' sign indicates dropping variables. \n",
    "#Make sure the variable names would NOT be specified in quotes when using subset() function.\n",
    "au_test = subset(au_test,select = -c(education))\n",
    "names(au_test)\n",
    "#define new data as original data minus 4th and 5th factor levels\n",
    "#au_test$native.country = au_test$native.country[-c(1)]\n",
    "#levels(au_test$native.country)"
   ]
  },
  {
   "cell_type": "code",
   "execution_count": 10,
   "id": "aa715c76",
   "metadata": {},
   "outputs": [
    {
     "data": {
      "text/html": [
       "<ol class=list-inline>\n",
       "\t<li>'age'</li>\n",
       "\t<li>'workclass'</li>\n",
       "\t<li>'fnlwgt'</li>\n",
       "\t<li>'education.num'</li>\n",
       "\t<li>'marital.status'</li>\n",
       "\t<li>'occupation'</li>\n",
       "\t<li>'relationship'</li>\n",
       "\t<li>'race'</li>\n",
       "\t<li>'sex'</li>\n",
       "\t<li>'capital.gain'</li>\n",
       "\t<li>'capital.loss'</li>\n",
       "\t<li>'hours.per.week'</li>\n",
       "\t<li>'native.country'</li>\n",
       "\t<li>'Salary'</li>\n",
       "</ol>\n"
      ],
      "text/latex": [
       "\\begin{enumerate*}\n",
       "\\item 'age'\n",
       "\\item 'workclass'\n",
       "\\item 'fnlwgt'\n",
       "\\item 'education.num'\n",
       "\\item 'marital.status'\n",
       "\\item 'occupation'\n",
       "\\item 'relationship'\n",
       "\\item 'race'\n",
       "\\item 'sex'\n",
       "\\item 'capital.gain'\n",
       "\\item 'capital.loss'\n",
       "\\item 'hours.per.week'\n",
       "\\item 'native.country'\n",
       "\\item 'Salary'\n",
       "\\end{enumerate*}\n"
      ],
      "text/markdown": [
       "1. 'age'\n",
       "2. 'workclass'\n",
       "3. 'fnlwgt'\n",
       "4. 'education.num'\n",
       "5. 'marital.status'\n",
       "6. 'occupation'\n",
       "7. 'relationship'\n",
       "8. 'race'\n",
       "9. 'sex'\n",
       "10. 'capital.gain'\n",
       "11. 'capital.loss'\n",
       "12. 'hours.per.week'\n",
       "13. 'native.country'\n",
       "14. 'Salary'\n",
       "\n",
       "\n"
      ],
      "text/plain": [
       " [1] \"age\"            \"workclass\"      \"fnlwgt\"         \"education.num\" \n",
       " [5] \"marital.status\" \"occupation\"     \"relationship\"   \"race\"          \n",
       " [9] \"sex\"            \"capital.gain\"   \"capital.loss\"   \"hours.per.week\"\n",
       "[13] \"native.country\" \"Salary\"        "
      ]
     },
     "metadata": {},
     "output_type": "display_data"
    }
   ],
   "source": [
    "au_train = subset(au_train,select = -c(education))\n",
    "names(au_train)\n",
    "#levels(au_train$native.country)"
   ]
  },
  {
   "cell_type": "code",
   "execution_count": 11,
   "id": "9b367f02",
   "metadata": {},
   "outputs": [
    {
     "data": {
      "text/html": [
       "<ol class=list-inline>\n",
       "\t<li>16281</li>\n",
       "\t<li>14</li>\n",
       "</ol>\n"
      ],
      "text/latex": [
       "\\begin{enumerate*}\n",
       "\\item 16281\n",
       "\\item 14\n",
       "\\end{enumerate*}\n"
      ],
      "text/markdown": [
       "1. 16281\n",
       "2. 14\n",
       "\n",
       "\n"
      ],
      "text/plain": [
       "[1] 16281    14"
      ]
     },
     "metadata": {},
     "output_type": "display_data"
    },
    {
     "data": {
      "text/html": [
       "<ol class=list-inline>\n",
       "\t<li>32561</li>\n",
       "\t<li>14</li>\n",
       "</ol>\n"
      ],
      "text/latex": [
       "\\begin{enumerate*}\n",
       "\\item 32561\n",
       "\\item 14\n",
       "\\end{enumerate*}\n"
      ],
      "text/markdown": [
       "1. 32561\n",
       "2. 14\n",
       "\n",
       "\n"
      ],
      "text/plain": [
       "[1] 32561    14"
      ]
     },
     "metadata": {},
     "output_type": "display_data"
    }
   ],
   "source": [
    "#seee dimension of data frame.\n",
    "dim(au_test)\n",
    "dim(au_train)"
   ]
  },
  {
   "cell_type": "code",
   "execution_count": 12,
   "id": "02d335c3",
   "metadata": {
    "scrolled": true
   },
   "outputs": [
    {
     "data": {
      "text/html": [
       "0"
      ],
      "text/latex": [
       "0"
      ],
      "text/markdown": [
       "0"
      ],
      "text/plain": [
       "[1] 0"
      ]
     },
     "metadata": {},
     "output_type": "display_data"
    },
    {
     "data": {
      "text/html": [
       "963"
      ],
      "text/latex": [
       "963"
      ],
      "text/markdown": [
       "963"
      ],
      "text/plain": [
       "[1] 963"
      ]
     },
     "metadata": {},
     "output_type": "display_data"
    },
    {
     "data": {
      "text/html": [
       "0"
      ],
      "text/latex": [
       "0"
      ],
      "text/markdown": [
       "0"
      ],
      "text/plain": [
       "[1] 0"
      ]
     },
     "metadata": {},
     "output_type": "display_data"
    },
    {
     "data": {
      "text/html": [
       "0"
      ],
      "text/latex": [
       "0"
      ],
      "text/markdown": [
       "0"
      ],
      "text/plain": [
       "[1] 0"
      ]
     },
     "metadata": {},
     "output_type": "display_data"
    },
    {
     "data": {
      "text/html": [
       "0"
      ],
      "text/latex": [
       "0"
      ],
      "text/markdown": [
       "0"
      ],
      "text/plain": [
       "[1] 0"
      ]
     },
     "metadata": {},
     "output_type": "display_data"
    },
    {
     "data": {
      "text/html": [
       "0"
      ],
      "text/latex": [
       "0"
      ],
      "text/markdown": [
       "0"
      ],
      "text/plain": [
       "[1] 0"
      ]
     },
     "metadata": {},
     "output_type": "display_data"
    },
    {
     "data": {
      "text/html": [
       "966"
      ],
      "text/latex": [
       "966"
      ],
      "text/markdown": [
       "966"
      ],
      "text/plain": [
       "[1] 966"
      ]
     },
     "metadata": {},
     "output_type": "display_data"
    },
    {
     "data": {
      "text/html": [
       "0"
      ],
      "text/latex": [
       "0"
      ],
      "text/markdown": [
       "0"
      ],
      "text/plain": [
       "[1] 0"
      ]
     },
     "metadata": {},
     "output_type": "display_data"
    },
    {
     "data": {
      "text/html": [
       "0"
      ],
      "text/latex": [
       "0"
      ],
      "text/markdown": [
       "0"
      ],
      "text/plain": [
       "[1] 0"
      ]
     },
     "metadata": {},
     "output_type": "display_data"
    },
    {
     "data": {
      "text/html": [
       "0"
      ],
      "text/latex": [
       "0"
      ],
      "text/markdown": [
       "0"
      ],
      "text/plain": [
       "[1] 0"
      ]
     },
     "metadata": {},
     "output_type": "display_data"
    },
    {
     "data": {
      "text/html": [
       "0"
      ],
      "text/latex": [
       "0"
      ],
      "text/markdown": [
       "0"
      ],
      "text/plain": [
       "[1] 0"
      ]
     },
     "metadata": {},
     "output_type": "display_data"
    },
    {
     "data": {
      "text/html": [
       "0"
      ],
      "text/latex": [
       "0"
      ],
      "text/markdown": [
       "0"
      ],
      "text/plain": [
       "[1] 0"
      ]
     },
     "metadata": {},
     "output_type": "display_data"
    },
    {
     "data": {
      "text/html": [
       "0"
      ],
      "text/latex": [
       "0"
      ],
      "text/markdown": [
       "0"
      ],
      "text/plain": [
       "[1] 0"
      ]
     },
     "metadata": {},
     "output_type": "display_data"
    },
    {
     "data": {
      "text/html": [
       "274"
      ],
      "text/latex": [
       "274"
      ],
      "text/markdown": [
       "274"
      ],
      "text/plain": [
       "[1] 274"
      ]
     },
     "metadata": {},
     "output_type": "display_data"
    }
   ],
   "source": [
    "#Cleaning the data from '?' symbols (i.e missing data).\n",
    "#Note: there is about 5% of missing data so is safe to remove them. \n",
    "#Count on each column any rows that contain '?'\n",
    "sum(stringr::str_count(au_test$age, pattern = \"\\\\?\"))\n",
    "sum(stringr::str_count(au_test$workclass, pattern = \"\\\\?\"))\n",
    "sum(stringr::str_count(au_test$fnlwgt, pattern = \"\\\\?\"))\n",
    "sum(stringr::str_count(au_test$education, pattern = \"\\\\?\"))\n",
    "sum(stringr::str_count(au_test$education.num, pattern = \"\\\\?\"))\n",
    "sum(stringr::str_count(au_test$marital.status, pattern = \"\\\\?\"))\n",
    "sum(stringr::str_count(au_test$occupation, pattern = \"\\\\?\"))\n",
    "sum(stringr::str_count(au_test$relationship, pattern = \"\\\\?\"))\n",
    "sum(stringr::str_count(au_test$race, pattern = \"\\\\?\"))\n",
    "sum(stringr::str_count(au_test$sex, pattern = \"\\\\?\"))\n",
    "sum(stringr::str_count(au_test$capital.gain, pattern = \"\\\\?\"))\n",
    "sum(stringr::str_count(au_test$capital.loss, pattern = \"\\\\?\"))\n",
    "sum(stringr::str_count(au_test$hours.per.week, pattern = \"\\\\?\"))\n",
    "sum(stringr::str_count(au_test$native.country, pattern = \"\\\\?\"))"
   ]
  },
  {
   "cell_type": "code",
   "execution_count": 13,
   "id": "6f6da251",
   "metadata": {
    "scrolled": true
   },
   "outputs": [
    {
     "name": "stdout",
     "output_type": "stream",
     "text": [
      "'data.frame':\t15318 obs. of  14 variables:\n",
      " $ age           : int  25 38 28 44 34 63 24 55 65 36 ...\n",
      " $ workclass     : Factor w/ 9 levels \" ?\",\" Federal-gov\",..: 5 5 3 5 5 7 5 5 5 2 ...\n",
      " $ fnlwgt        : int  226802 89814 336951 160323 198693 104626 369667 104996 184454 212465 ...\n",
      " $ education.num : int  7 9 12 10 6 15 10 4 9 13 ...\n",
      " $ marital.status: Factor w/ 7 levels \" Divorced\",\" Married-AF-spouse\",..: 5 3 3 3 5 3 5 3 3 3 ...\n",
      " $ occupation    : Factor w/ 15 levels \" ?\",\" Adm-clerical\",..: 8 6 12 8 9 11 9 4 8 2 ...\n",
      " $ relationship  : Factor w/ 6 levels \" Husband\",\" Not-in-family\",..: 4 1 1 1 2 1 5 1 1 1 ...\n",
      " $ race          : Factor w/ 5 levels \" Amer-Indian-Eskimo\",..: 3 5 5 3 5 5 5 5 5 5 ...\n",
      " $ sex           : Factor w/ 2 levels \" Female\",\" Male\": 2 2 2 2 2 2 1 2 2 2 ...\n",
      " $ capital.gain  : int  0 0 0 7688 0 3103 0 0 6418 0 ...\n",
      " $ capital.loss  : int  0 0 0 0 0 0 0 0 0 0 ...\n",
      " $ hours.per.week: int  40 50 40 40 30 32 40 10 40 40 ...\n",
      " $ native.country: Factor w/ 42 levels \" ?\",\" Cambodia\",..: 39 39 39 39 39 39 39 39 39 39 ...\n",
      " $ Salary        : Factor w/ 2 levels \" <=50K\",\" >50K\": 1 1 2 2 1 2 1 1 2 1 ...\n"
     ]
    }
   ],
   "source": [
    "#remove this rows to make it a clean data set for TEST data\n",
    "matches = grepl(\"\\\\?\",au_test$workclass)\n",
    "au_test.removed = au_test[!matches,]\n",
    "#print(au_test.removed)\n",
    "str(au_test.removed) #to check if the observations changed\n"
   ]
  },
  {
   "cell_type": "code",
   "execution_count": 14,
   "id": "664f7965",
   "metadata": {},
   "outputs": [
    {
     "name": "stdout",
     "output_type": "stream",
     "text": [
      "'data.frame':\t15063 obs. of  14 variables:\n",
      " $ age           : int  25 38 28 44 34 63 24 55 65 36 ...\n",
      " $ workclass     : Factor w/ 9 levels \" ?\",\" Federal-gov\",..: 5 5 3 5 5 7 5 5 5 2 ...\n",
      " $ fnlwgt        : int  226802 89814 336951 160323 198693 104626 369667 104996 184454 212465 ...\n",
      " $ education.num : int  7 9 12 10 6 15 10 4 9 13 ...\n",
      " $ marital.status: Factor w/ 7 levels \" Divorced\",\" Married-AF-spouse\",..: 5 3 3 3 5 3 5 3 3 3 ...\n",
      " $ occupation    : Factor w/ 15 levels \" ?\",\" Adm-clerical\",..: 8 6 12 8 9 11 9 4 8 2 ...\n",
      " $ relationship  : Factor w/ 6 levels \" Husband\",\" Not-in-family\",..: 4 1 1 1 2 1 5 1 1 1 ...\n",
      " $ race          : Factor w/ 5 levels \" Amer-Indian-Eskimo\",..: 3 5 5 3 5 5 5 5 5 5 ...\n",
      " $ sex           : Factor w/ 2 levels \" Female\",\" Male\": 2 2 2 2 2 2 1 2 2 2 ...\n",
      " $ capital.gain  : int  0 0 0 7688 0 3103 0 0 6418 0 ...\n",
      " $ capital.loss  : int  0 0 0 0 0 0 0 0 0 0 ...\n",
      " $ hours.per.week: int  40 50 40 40 30 32 40 10 40 40 ...\n",
      " $ native.country: Factor w/ 42 levels \" ?\",\" Cambodia\",..: 39 39 39 39 39 39 39 39 39 39 ...\n",
      " $ Salary        : Factor w/ 2 levels \" <=50K\",\" >50K\": 1 1 2 2 1 2 1 1 2 1 ...\n"
     ]
    },
    {
     "data": {
      "text/html": [
       "<ol class=list-inline>\n",
       "\t<li>' ?'</li>\n",
       "\t<li>' Cambodia'</li>\n",
       "\t<li>' Canada'</li>\n",
       "\t<li>' China'</li>\n",
       "\t<li>' Columbia'</li>\n",
       "\t<li>' Cuba'</li>\n",
       "\t<li>' Dominican-Republic'</li>\n",
       "\t<li>' Ecuador'</li>\n",
       "\t<li>' El-Salvador'</li>\n",
       "\t<li>' England'</li>\n",
       "\t<li>' France'</li>\n",
       "\t<li>' Germany'</li>\n",
       "\t<li>' Greece'</li>\n",
       "\t<li>' Guatemala'</li>\n",
       "\t<li>' Haiti'</li>\n",
       "\t<li>' Holand-Netherlands'</li>\n",
       "\t<li>' Honduras'</li>\n",
       "\t<li>' Hong'</li>\n",
       "\t<li>' Hungary'</li>\n",
       "\t<li>' India'</li>\n",
       "\t<li>' Iran'</li>\n",
       "\t<li>' Ireland'</li>\n",
       "\t<li>' Italy'</li>\n",
       "\t<li>' Jamaica'</li>\n",
       "\t<li>' Japan'</li>\n",
       "\t<li>' Laos'</li>\n",
       "\t<li>' Mexico'</li>\n",
       "\t<li>' Nicaragua'</li>\n",
       "\t<li>' Outlying-US(Guam-USVI-etc)'</li>\n",
       "\t<li>' Peru'</li>\n",
       "\t<li>' Philippines'</li>\n",
       "\t<li>' Poland'</li>\n",
       "\t<li>' Portugal'</li>\n",
       "\t<li>' Puerto-Rico'</li>\n",
       "\t<li>' Scotland'</li>\n",
       "\t<li>' South'</li>\n",
       "\t<li>' Taiwan'</li>\n",
       "\t<li>' Thailand'</li>\n",
       "\t<li>' Trinadad&amp;Tobago'</li>\n",
       "\t<li>' United-States'</li>\n",
       "\t<li>' Vietnam'</li>\n",
       "\t<li>' Yugoslavia'</li>\n",
       "</ol>\n"
      ],
      "text/latex": [
       "\\begin{enumerate*}\n",
       "\\item ' ?'\n",
       "\\item ' Cambodia'\n",
       "\\item ' Canada'\n",
       "\\item ' China'\n",
       "\\item ' Columbia'\n",
       "\\item ' Cuba'\n",
       "\\item ' Dominican-Republic'\n",
       "\\item ' Ecuador'\n",
       "\\item ' El-Salvador'\n",
       "\\item ' England'\n",
       "\\item ' France'\n",
       "\\item ' Germany'\n",
       "\\item ' Greece'\n",
       "\\item ' Guatemala'\n",
       "\\item ' Haiti'\n",
       "\\item ' Holand-Netherlands'\n",
       "\\item ' Honduras'\n",
       "\\item ' Hong'\n",
       "\\item ' Hungary'\n",
       "\\item ' India'\n",
       "\\item ' Iran'\n",
       "\\item ' Ireland'\n",
       "\\item ' Italy'\n",
       "\\item ' Jamaica'\n",
       "\\item ' Japan'\n",
       "\\item ' Laos'\n",
       "\\item ' Mexico'\n",
       "\\item ' Nicaragua'\n",
       "\\item ' Outlying-US(Guam-USVI-etc)'\n",
       "\\item ' Peru'\n",
       "\\item ' Philippines'\n",
       "\\item ' Poland'\n",
       "\\item ' Portugal'\n",
       "\\item ' Puerto-Rico'\n",
       "\\item ' Scotland'\n",
       "\\item ' South'\n",
       "\\item ' Taiwan'\n",
       "\\item ' Thailand'\n",
       "\\item ' Trinadad\\&Tobago'\n",
       "\\item ' United-States'\n",
       "\\item ' Vietnam'\n",
       "\\item ' Yugoslavia'\n",
       "\\end{enumerate*}\n"
      ],
      "text/markdown": [
       "1. ' ?'\n",
       "2. ' Cambodia'\n",
       "3. ' Canada'\n",
       "4. ' China'\n",
       "5. ' Columbia'\n",
       "6. ' Cuba'\n",
       "7. ' Dominican-Republic'\n",
       "8. ' Ecuador'\n",
       "9. ' El-Salvador'\n",
       "10. ' England'\n",
       "11. ' France'\n",
       "12. ' Germany'\n",
       "13. ' Greece'\n",
       "14. ' Guatemala'\n",
       "15. ' Haiti'\n",
       "16. ' Holand-Netherlands'\n",
       "17. ' Honduras'\n",
       "18. ' Hong'\n",
       "19. ' Hungary'\n",
       "20. ' India'\n",
       "21. ' Iran'\n",
       "22. ' Ireland'\n",
       "23. ' Italy'\n",
       "24. ' Jamaica'\n",
       "25. ' Japan'\n",
       "26. ' Laos'\n",
       "27. ' Mexico'\n",
       "28. ' Nicaragua'\n",
       "29. ' Outlying-US(Guam-USVI-etc)'\n",
       "30. ' Peru'\n",
       "31. ' Philippines'\n",
       "32. ' Poland'\n",
       "33. ' Portugal'\n",
       "34. ' Puerto-Rico'\n",
       "35. ' Scotland'\n",
       "36. ' South'\n",
       "37. ' Taiwan'\n",
       "38. ' Thailand'\n",
       "39. ' Trinadad&amp;Tobago'\n",
       "40. ' United-States'\n",
       "41. ' Vietnam'\n",
       "42. ' Yugoslavia'\n",
       "\n",
       "\n"
      ],
      "text/plain": [
       " [1] \" ?\"                          \" Cambodia\"                  \n",
       " [3] \" Canada\"                     \" China\"                     \n",
       " [5] \" Columbia\"                   \" Cuba\"                      \n",
       " [7] \" Dominican-Republic\"         \" Ecuador\"                   \n",
       " [9] \" El-Salvador\"                \" England\"                   \n",
       "[11] \" France\"                     \" Germany\"                   \n",
       "[13] \" Greece\"                     \" Guatemala\"                 \n",
       "[15] \" Haiti\"                      \" Holand-Netherlands\"        \n",
       "[17] \" Honduras\"                   \" Hong\"                      \n",
       "[19] \" Hungary\"                    \" India\"                     \n",
       "[21] \" Iran\"                       \" Ireland\"                   \n",
       "[23] \" Italy\"                      \" Jamaica\"                   \n",
       "[25] \" Japan\"                      \" Laos\"                      \n",
       "[27] \" Mexico\"                     \" Nicaragua\"                 \n",
       "[29] \" Outlying-US(Guam-USVI-etc)\" \" Peru\"                      \n",
       "[31] \" Philippines\"                \" Poland\"                    \n",
       "[33] \" Portugal\"                   \" Puerto-Rico\"               \n",
       "[35] \" Scotland\"                   \" South\"                     \n",
       "[37] \" Taiwan\"                     \" Thailand\"                  \n",
       "[39] \" Trinadad&Tobago\"            \" United-States\"             \n",
       "[41] \" Vietnam\"                    \" Yugoslavia\"                "
      ]
     },
     "metadata": {},
     "output_type": "display_data"
    }
   ],
   "source": [
    "matches1 = grepl(\"\\\\?\",au_test.removed$native.country)\n",
    "au_test.removed1 = au_test.removed[!matches1,]\n",
    "#print(au_test.removed1)\n",
    "str(au_test.removed1) #to check if the observations changed\n",
    "sort(levels(au_test$native.country)) #to make sure the factors re sorted properly"
   ]
  },
  {
   "cell_type": "code",
   "execution_count": 15,
   "id": "bc402362",
   "metadata": {},
   "outputs": [
    {
     "name": "stdout",
     "output_type": "stream",
     "text": [
      "'data.frame':\t15060 obs. of  14 variables:\n",
      " $ age           : int  25 38 28 44 34 63 24 55 65 36 ...\n",
      " $ workclass     : Factor w/ 9 levels \" ?\",\" Federal-gov\",..: 5 5 3 5 5 7 5 5 5 2 ...\n",
      " $ fnlwgt        : int  226802 89814 336951 160323 198693 104626 369667 104996 184454 212465 ...\n",
      " $ education.num : int  7 9 12 10 6 15 10 4 9 13 ...\n",
      " $ marital.status: Factor w/ 7 levels \" Divorced\",\" Married-AF-spouse\",..: 5 3 3 3 5 3 5 3 3 3 ...\n",
      " $ occupation    : Factor w/ 15 levels \" ?\",\" Adm-clerical\",..: 8 6 12 8 9 11 9 4 8 2 ...\n",
      " $ relationship  : Factor w/ 6 levels \" Husband\",\" Not-in-family\",..: 4 1 1 1 2 1 5 1 1 1 ...\n",
      " $ race          : Factor w/ 5 levels \" Amer-Indian-Eskimo\",..: 3 5 5 3 5 5 5 5 5 5 ...\n",
      " $ sex           : Factor w/ 2 levels \" Female\",\" Male\": 2 2 2 2 2 2 1 2 2 2 ...\n",
      " $ capital.gain  : int  0 0 0 7688 0 3103 0 0 6418 0 ...\n",
      " $ capital.loss  : int  0 0 0 0 0 0 0 0 0 0 ...\n",
      " $ hours.per.week: int  40 50 40 40 30 32 40 10 40 40 ...\n",
      " $ native.country: Factor w/ 42 levels \" ?\",\" Cambodia\",..: 39 39 39 39 39 39 39 39 39 39 ...\n",
      " $ Salary        : Factor w/ 2 levels \" <=50K\",\" >50K\": 1 1 2 2 1 2 1 1 2 1 ...\n"
     ]
    },
    {
     "data": {
      "text/html": [
       "<ol class=list-inline>\n",
       "\t<li>' ?'</li>\n",
       "\t<li>' Cambodia'</li>\n",
       "\t<li>' Canada'</li>\n",
       "\t<li>' China'</li>\n",
       "\t<li>' Columbia'</li>\n",
       "\t<li>' Cuba'</li>\n",
       "\t<li>' Dominican-Republic'</li>\n",
       "\t<li>' Ecuador'</li>\n",
       "\t<li>' El-Salvador'</li>\n",
       "\t<li>' England'</li>\n",
       "\t<li>' France'</li>\n",
       "\t<li>' Germany'</li>\n",
       "\t<li>' Greece'</li>\n",
       "\t<li>' Guatemala'</li>\n",
       "\t<li>' Haiti'</li>\n",
       "\t<li>' Holand-Netherlands'</li>\n",
       "\t<li>' Honduras'</li>\n",
       "\t<li>' Hong'</li>\n",
       "\t<li>' Hungary'</li>\n",
       "\t<li>' India'</li>\n",
       "\t<li>' Iran'</li>\n",
       "\t<li>' Ireland'</li>\n",
       "\t<li>' Italy'</li>\n",
       "\t<li>' Jamaica'</li>\n",
       "\t<li>' Japan'</li>\n",
       "\t<li>' Laos'</li>\n",
       "\t<li>' Mexico'</li>\n",
       "\t<li>' Nicaragua'</li>\n",
       "\t<li>' Outlying-US(Guam-USVI-etc)'</li>\n",
       "\t<li>' Peru'</li>\n",
       "\t<li>' Philippines'</li>\n",
       "\t<li>' Poland'</li>\n",
       "\t<li>' Portugal'</li>\n",
       "\t<li>' Puerto-Rico'</li>\n",
       "\t<li>' Scotland'</li>\n",
       "\t<li>' South'</li>\n",
       "\t<li>' Taiwan'</li>\n",
       "\t<li>' Thailand'</li>\n",
       "\t<li>' Trinadad&amp;Tobago'</li>\n",
       "\t<li>' United-States'</li>\n",
       "\t<li>' Vietnam'</li>\n",
       "\t<li>' Yugoslavia'</li>\n",
       "</ol>\n"
      ],
      "text/latex": [
       "\\begin{enumerate*}\n",
       "\\item ' ?'\n",
       "\\item ' Cambodia'\n",
       "\\item ' Canada'\n",
       "\\item ' China'\n",
       "\\item ' Columbia'\n",
       "\\item ' Cuba'\n",
       "\\item ' Dominican-Republic'\n",
       "\\item ' Ecuador'\n",
       "\\item ' El-Salvador'\n",
       "\\item ' England'\n",
       "\\item ' France'\n",
       "\\item ' Germany'\n",
       "\\item ' Greece'\n",
       "\\item ' Guatemala'\n",
       "\\item ' Haiti'\n",
       "\\item ' Holand-Netherlands'\n",
       "\\item ' Honduras'\n",
       "\\item ' Hong'\n",
       "\\item ' Hungary'\n",
       "\\item ' India'\n",
       "\\item ' Iran'\n",
       "\\item ' Ireland'\n",
       "\\item ' Italy'\n",
       "\\item ' Jamaica'\n",
       "\\item ' Japan'\n",
       "\\item ' Laos'\n",
       "\\item ' Mexico'\n",
       "\\item ' Nicaragua'\n",
       "\\item ' Outlying-US(Guam-USVI-etc)'\n",
       "\\item ' Peru'\n",
       "\\item ' Philippines'\n",
       "\\item ' Poland'\n",
       "\\item ' Portugal'\n",
       "\\item ' Puerto-Rico'\n",
       "\\item ' Scotland'\n",
       "\\item ' South'\n",
       "\\item ' Taiwan'\n",
       "\\item ' Thailand'\n",
       "\\item ' Trinadad\\&Tobago'\n",
       "\\item ' United-States'\n",
       "\\item ' Vietnam'\n",
       "\\item ' Yugoslavia'\n",
       "\\end{enumerate*}\n"
      ],
      "text/markdown": [
       "1. ' ?'\n",
       "2. ' Cambodia'\n",
       "3. ' Canada'\n",
       "4. ' China'\n",
       "5. ' Columbia'\n",
       "6. ' Cuba'\n",
       "7. ' Dominican-Republic'\n",
       "8. ' Ecuador'\n",
       "9. ' El-Salvador'\n",
       "10. ' England'\n",
       "11. ' France'\n",
       "12. ' Germany'\n",
       "13. ' Greece'\n",
       "14. ' Guatemala'\n",
       "15. ' Haiti'\n",
       "16. ' Holand-Netherlands'\n",
       "17. ' Honduras'\n",
       "18. ' Hong'\n",
       "19. ' Hungary'\n",
       "20. ' India'\n",
       "21. ' Iran'\n",
       "22. ' Ireland'\n",
       "23. ' Italy'\n",
       "24. ' Jamaica'\n",
       "25. ' Japan'\n",
       "26. ' Laos'\n",
       "27. ' Mexico'\n",
       "28. ' Nicaragua'\n",
       "29. ' Outlying-US(Guam-USVI-etc)'\n",
       "30. ' Peru'\n",
       "31. ' Philippines'\n",
       "32. ' Poland'\n",
       "33. ' Portugal'\n",
       "34. ' Puerto-Rico'\n",
       "35. ' Scotland'\n",
       "36. ' South'\n",
       "37. ' Taiwan'\n",
       "38. ' Thailand'\n",
       "39. ' Trinadad&amp;Tobago'\n",
       "40. ' United-States'\n",
       "41. ' Vietnam'\n",
       "42. ' Yugoslavia'\n",
       "\n",
       "\n"
      ],
      "text/plain": [
       " [1] \" ?\"                          \" Cambodia\"                  \n",
       " [3] \" Canada\"                     \" China\"                     \n",
       " [5] \" Columbia\"                   \" Cuba\"                      \n",
       " [7] \" Dominican-Republic\"         \" Ecuador\"                   \n",
       " [9] \" El-Salvador\"                \" England\"                   \n",
       "[11] \" France\"                     \" Germany\"                   \n",
       "[13] \" Greece\"                     \" Guatemala\"                 \n",
       "[15] \" Haiti\"                      \" Holand-Netherlands\"        \n",
       "[17] \" Honduras\"                   \" Hong\"                      \n",
       "[19] \" Hungary\"                    \" India\"                     \n",
       "[21] \" Iran\"                       \" Ireland\"                   \n",
       "[23] \" Italy\"                      \" Jamaica\"                   \n",
       "[25] \" Japan\"                      \" Laos\"                      \n",
       "[27] \" Mexico\"                     \" Nicaragua\"                 \n",
       "[29] \" Outlying-US(Guam-USVI-etc)\" \" Peru\"                      \n",
       "[31] \" Philippines\"                \" Poland\"                    \n",
       "[33] \" Portugal\"                   \" Puerto-Rico\"               \n",
       "[35] \" Scotland\"                   \" South\"                     \n",
       "[37] \" Taiwan\"                     \" Thailand\"                  \n",
       "[39] \" Trinadad&Tobago\"            \" United-States\"             \n",
       "[41] \" Vietnam\"                    \" Yugoslavia\"                "
      ]
     },
     "metadata": {},
     "output_type": "display_data"
    }
   ],
   "source": [
    "matches2 = grepl(\"\\\\?\",au_test.removed1$occupation)\n",
    "au_test.removed2 = au_test.removed1[!matches2,]\n",
    "#print(au_test.removed2)\n",
    "au_test = au_test.removed2\n",
    "str(au_test) #to check if the observations changed\n",
    "sort(levels(au_test$native.country)) #to make sure the factors re sorted properly"
   ]
  },
  {
   "cell_type": "code",
   "execution_count": 16,
   "id": "369cefc8",
   "metadata": {},
   "outputs": [
    {
     "name": "stdout",
     "output_type": "stream",
     "text": [
      "'data.frame':\t30725 obs. of  14 variables:\n",
      " $ age           : int  39 50 38 53 28 37 49 52 31 42 ...\n",
      " $ workclass     : Factor w/ 9 levels \" ?\",\" Federal-gov\",..: 8 7 5 5 5 5 5 7 5 5 ...\n",
      " $ fnlwgt        : int  77516 83311 215646 234721 338409 284582 160187 209642 45781 159449 ...\n",
      " $ education.num : int  13 13 9 7 13 14 5 9 14 13 ...\n",
      " $ marital.status: Factor w/ 7 levels \" Divorced\",\" Married-AF-spouse\",..: 5 3 1 3 3 3 4 3 5 3 ...\n",
      " $ occupation    : Factor w/ 15 levels \" ?\",\" Adm-clerical\",..: 2 5 7 7 11 5 9 5 11 5 ...\n",
      " $ relationship  : Factor w/ 6 levels \" Husband\",\" Not-in-family\",..: 2 1 2 1 6 6 2 1 2 1 ...\n",
      " $ race          : Factor w/ 5 levels \" Amer-Indian-Eskimo\",..: 5 5 5 3 3 5 3 5 5 5 ...\n",
      " $ sex           : Factor w/ 2 levels \" Female\",\" Male\": 2 2 2 2 1 1 1 2 1 2 ...\n",
      " $ capital.gain  : int  2174 0 0 0 0 0 0 0 14084 5178 ...\n",
      " $ capital.loss  : int  0 0 0 0 0 0 0 0 0 0 ...\n",
      " $ hours.per.week: int  40 13 40 40 40 40 16 45 50 40 ...\n",
      " $ native.country: Factor w/ 42 levels \" ?\",\" Cambodia\",..: 40 40 40 40 6 40 24 40 40 40 ...\n",
      " $ Salary        : Factor w/ 2 levels \" <=50K\",\" >50K\": 1 1 1 1 1 1 1 2 2 2 ...\n"
     ]
    }
   ],
   "source": [
    "#remove this rows to make it a clean data set for TRAIN data\n",
    "matches_tr = grepl(\"\\\\?\",au_train$workclass)\n",
    "au_train.removed = au_train[!matches_tr,]\n",
    "str(au_train.removed)"
   ]
  },
  {
   "cell_type": "code",
   "execution_count": 17,
   "id": "39f6a0a1",
   "metadata": {},
   "outputs": [
    {
     "name": "stdout",
     "output_type": "stream",
     "text": [
      "'data.frame':\t30169 obs. of  14 variables:\n",
      " $ age           : int  39 50 38 53 28 37 49 52 31 42 ...\n",
      " $ workclass     : Factor w/ 9 levels \" ?\",\" Federal-gov\",..: 8 7 5 5 5 5 5 7 5 5 ...\n",
      " $ fnlwgt        : int  77516 83311 215646 234721 338409 284582 160187 209642 45781 159449 ...\n",
      " $ education.num : int  13 13 9 7 13 14 5 9 14 13 ...\n",
      " $ marital.status: Factor w/ 7 levels \" Divorced\",\" Married-AF-spouse\",..: 5 3 1 3 3 3 4 3 5 3 ...\n",
      " $ occupation    : Factor w/ 15 levels \" ?\",\" Adm-clerical\",..: 2 5 7 7 11 5 9 5 11 5 ...\n",
      " $ relationship  : Factor w/ 6 levels \" Husband\",\" Not-in-family\",..: 2 1 2 1 6 6 2 1 2 1 ...\n",
      " $ race          : Factor w/ 5 levels \" Amer-Indian-Eskimo\",..: 5 5 5 3 3 5 3 5 5 5 ...\n",
      " $ sex           : Factor w/ 2 levels \" Female\",\" Male\": 2 2 2 2 1 1 1 2 1 2 ...\n",
      " $ capital.gain  : int  2174 0 0 0 0 0 0 0 14084 5178 ...\n",
      " $ capital.loss  : int  0 0 0 0 0 0 0 0 0 0 ...\n",
      " $ hours.per.week: int  40 13 40 40 40 40 16 45 50 40 ...\n",
      " $ native.country: Factor w/ 42 levels \" ?\",\" Cambodia\",..: 40 40 40 40 6 40 24 40 40 40 ...\n",
      " $ Salary        : Factor w/ 2 levels \" <=50K\",\" >50K\": 1 1 1 1 1 1 1 2 2 2 ...\n"
     ]
    }
   ],
   "source": [
    "matches1_tr = grepl(\"\\\\?\",au_train.removed$native.country)\n",
    "au_train.removed1 = au_train.removed[!matches1_tr,]\n",
    "str(au_train.removed1) #to make sure the factors re sorted properly\n",
    "#print(au_test.removed1)"
   ]
  },
  {
   "cell_type": "code",
   "execution_count": 18,
   "id": "49361f84",
   "metadata": {
    "scrolled": true
   },
   "outputs": [
    {
     "name": "stdout",
     "output_type": "stream",
     "text": [
      "'data.frame':\t30162 obs. of  14 variables:\n",
      " $ age           : int  39 50 38 53 28 37 49 52 31 42 ...\n",
      " $ workclass     : Factor w/ 9 levels \" ?\",\" Federal-gov\",..: 8 7 5 5 5 5 5 7 5 5 ...\n",
      " $ fnlwgt        : int  77516 83311 215646 234721 338409 284582 160187 209642 45781 159449 ...\n",
      " $ education.num : int  13 13 9 7 13 14 5 9 14 13 ...\n",
      " $ marital.status: Factor w/ 7 levels \" Divorced\",\" Married-AF-spouse\",..: 5 3 1 3 3 3 4 3 5 3 ...\n",
      " $ occupation    : Factor w/ 15 levels \" ?\",\" Adm-clerical\",..: 2 5 7 7 11 5 9 5 11 5 ...\n",
      " $ relationship  : Factor w/ 6 levels \" Husband\",\" Not-in-family\",..: 2 1 2 1 6 6 2 1 2 1 ...\n",
      " $ race          : Factor w/ 5 levels \" Amer-Indian-Eskimo\",..: 5 5 5 3 3 5 3 5 5 5 ...\n",
      " $ sex           : Factor w/ 2 levels \" Female\",\" Male\": 2 2 2 2 1 1 1 2 1 2 ...\n",
      " $ capital.gain  : int  2174 0 0 0 0 0 0 0 14084 5178 ...\n",
      " $ capital.loss  : int  0 0 0 0 0 0 0 0 0 0 ...\n",
      " $ hours.per.week: int  40 13 40 40 40 40 16 45 50 40 ...\n",
      " $ native.country: Factor w/ 42 levels \" ?\",\" Cambodia\",..: 40 40 40 40 6 40 24 40 40 40 ...\n",
      " $ Salary        : Factor w/ 2 levels \" <=50K\",\" >50K\": 1 1 1 1 1 1 1 2 2 2 ...\n"
     ]
    },
    {
     "data": {
      "text/html": [
       "<ol class=list-inline>\n",
       "\t<li>' ?'</li>\n",
       "\t<li>' Cambodia'</li>\n",
       "\t<li>' Canada'</li>\n",
       "\t<li>' China'</li>\n",
       "\t<li>' Columbia'</li>\n",
       "\t<li>' Cuba'</li>\n",
       "\t<li>' Dominican-Republic'</li>\n",
       "\t<li>' Ecuador'</li>\n",
       "\t<li>' El-Salvador'</li>\n",
       "\t<li>' England'</li>\n",
       "\t<li>' France'</li>\n",
       "\t<li>' Germany'</li>\n",
       "\t<li>' Greece'</li>\n",
       "\t<li>' Guatemala'</li>\n",
       "\t<li>' Haiti'</li>\n",
       "\t<li>' Holand-Netherlands'</li>\n",
       "\t<li>' Honduras'</li>\n",
       "\t<li>' Hong'</li>\n",
       "\t<li>' Hungary'</li>\n",
       "\t<li>' India'</li>\n",
       "\t<li>' Iran'</li>\n",
       "\t<li>' Ireland'</li>\n",
       "\t<li>' Italy'</li>\n",
       "\t<li>' Jamaica'</li>\n",
       "\t<li>' Japan'</li>\n",
       "\t<li>' Laos'</li>\n",
       "\t<li>' Mexico'</li>\n",
       "\t<li>' Nicaragua'</li>\n",
       "\t<li>' Outlying-US(Guam-USVI-etc)'</li>\n",
       "\t<li>' Peru'</li>\n",
       "\t<li>' Philippines'</li>\n",
       "\t<li>' Poland'</li>\n",
       "\t<li>' Portugal'</li>\n",
       "\t<li>' Puerto-Rico'</li>\n",
       "\t<li>' Scotland'</li>\n",
       "\t<li>' South'</li>\n",
       "\t<li>' Taiwan'</li>\n",
       "\t<li>' Thailand'</li>\n",
       "\t<li>' Trinadad&amp;Tobago'</li>\n",
       "\t<li>' United-States'</li>\n",
       "\t<li>' Vietnam'</li>\n",
       "\t<li>' Yugoslavia'</li>\n",
       "</ol>\n"
      ],
      "text/latex": [
       "\\begin{enumerate*}\n",
       "\\item ' ?'\n",
       "\\item ' Cambodia'\n",
       "\\item ' Canada'\n",
       "\\item ' China'\n",
       "\\item ' Columbia'\n",
       "\\item ' Cuba'\n",
       "\\item ' Dominican-Republic'\n",
       "\\item ' Ecuador'\n",
       "\\item ' El-Salvador'\n",
       "\\item ' England'\n",
       "\\item ' France'\n",
       "\\item ' Germany'\n",
       "\\item ' Greece'\n",
       "\\item ' Guatemala'\n",
       "\\item ' Haiti'\n",
       "\\item ' Holand-Netherlands'\n",
       "\\item ' Honduras'\n",
       "\\item ' Hong'\n",
       "\\item ' Hungary'\n",
       "\\item ' India'\n",
       "\\item ' Iran'\n",
       "\\item ' Ireland'\n",
       "\\item ' Italy'\n",
       "\\item ' Jamaica'\n",
       "\\item ' Japan'\n",
       "\\item ' Laos'\n",
       "\\item ' Mexico'\n",
       "\\item ' Nicaragua'\n",
       "\\item ' Outlying-US(Guam-USVI-etc)'\n",
       "\\item ' Peru'\n",
       "\\item ' Philippines'\n",
       "\\item ' Poland'\n",
       "\\item ' Portugal'\n",
       "\\item ' Puerto-Rico'\n",
       "\\item ' Scotland'\n",
       "\\item ' South'\n",
       "\\item ' Taiwan'\n",
       "\\item ' Thailand'\n",
       "\\item ' Trinadad\\&Tobago'\n",
       "\\item ' United-States'\n",
       "\\item ' Vietnam'\n",
       "\\item ' Yugoslavia'\n",
       "\\end{enumerate*}\n"
      ],
      "text/markdown": [
       "1. ' ?'\n",
       "2. ' Cambodia'\n",
       "3. ' Canada'\n",
       "4. ' China'\n",
       "5. ' Columbia'\n",
       "6. ' Cuba'\n",
       "7. ' Dominican-Republic'\n",
       "8. ' Ecuador'\n",
       "9. ' El-Salvador'\n",
       "10. ' England'\n",
       "11. ' France'\n",
       "12. ' Germany'\n",
       "13. ' Greece'\n",
       "14. ' Guatemala'\n",
       "15. ' Haiti'\n",
       "16. ' Holand-Netherlands'\n",
       "17. ' Honduras'\n",
       "18. ' Hong'\n",
       "19. ' Hungary'\n",
       "20. ' India'\n",
       "21. ' Iran'\n",
       "22. ' Ireland'\n",
       "23. ' Italy'\n",
       "24. ' Jamaica'\n",
       "25. ' Japan'\n",
       "26. ' Laos'\n",
       "27. ' Mexico'\n",
       "28. ' Nicaragua'\n",
       "29. ' Outlying-US(Guam-USVI-etc)'\n",
       "30. ' Peru'\n",
       "31. ' Philippines'\n",
       "32. ' Poland'\n",
       "33. ' Portugal'\n",
       "34. ' Puerto-Rico'\n",
       "35. ' Scotland'\n",
       "36. ' South'\n",
       "37. ' Taiwan'\n",
       "38. ' Thailand'\n",
       "39. ' Trinadad&amp;Tobago'\n",
       "40. ' United-States'\n",
       "41. ' Vietnam'\n",
       "42. ' Yugoslavia'\n",
       "\n",
       "\n"
      ],
      "text/plain": [
       " [1] \" ?\"                          \" Cambodia\"                  \n",
       " [3] \" Canada\"                     \" China\"                     \n",
       " [5] \" Columbia\"                   \" Cuba\"                      \n",
       " [7] \" Dominican-Republic\"         \" Ecuador\"                   \n",
       " [9] \" El-Salvador\"                \" England\"                   \n",
       "[11] \" France\"                     \" Germany\"                   \n",
       "[13] \" Greece\"                     \" Guatemala\"                 \n",
       "[15] \" Haiti\"                      \" Holand-Netherlands\"        \n",
       "[17] \" Honduras\"                   \" Hong\"                      \n",
       "[19] \" Hungary\"                    \" India\"                     \n",
       "[21] \" Iran\"                       \" Ireland\"                   \n",
       "[23] \" Italy\"                      \" Jamaica\"                   \n",
       "[25] \" Japan\"                      \" Laos\"                      \n",
       "[27] \" Mexico\"                     \" Nicaragua\"                 \n",
       "[29] \" Outlying-US(Guam-USVI-etc)\" \" Peru\"                      \n",
       "[31] \" Philippines\"                \" Poland\"                    \n",
       "[33] \" Portugal\"                   \" Puerto-Rico\"               \n",
       "[35] \" Scotland\"                   \" South\"                     \n",
       "[37] \" Taiwan\"                     \" Thailand\"                  \n",
       "[39] \" Trinadad&Tobago\"            \" United-States\"             \n",
       "[41] \" Vietnam\"                    \" Yugoslavia\"                "
      ]
     },
     "metadata": {},
     "output_type": "display_data"
    }
   ],
   "source": [
    "matches2_tr = grepl(\"\\\\?\",au_train.removed1$occupation)\n",
    "au_train.removed2 = au_train.removed1[!matches2_tr,]\n",
    "#print(au_test.removed2)\n",
    "au_train = au_train.removed2\n",
    "str(au_train)\n",
    "levels(au_train$native.country)"
   ]
  },
  {
   "cell_type": "code",
   "execution_count": 19,
   "id": "5d5f0715",
   "metadata": {},
   "outputs": [
    {
     "name": "stderr",
     "output_type": "stream",
     "text": [
      "Warning message:\n",
      "“package ‘party’ was built under R version 3.6.1”Loading required package: grid\n",
      "Loading required package: mvtnorm\n",
      "Loading required package: modeltools\n",
      "Loading required package: stats4\n",
      "Loading required package: strucchange\n",
      "Loading required package: zoo\n",
      "Warning message:\n",
      "“package ‘zoo’ was built under R version 3.6.1”\n",
      "Attaching package: ‘zoo’\n",
      "\n",
      "The following objects are masked from ‘package:base’:\n",
      "\n",
      "    as.Date, as.Date.numeric\n",
      "\n",
      "Loading required package: sandwich\n",
      "\n",
      "Attaching package: ‘dplyr’\n",
      "\n",
      "The following objects are masked from ‘package:stats’:\n",
      "\n",
      "    filter, lag\n",
      "\n",
      "The following objects are masked from ‘package:base’:\n",
      "\n",
      "    intersect, setdiff, setequal, union\n",
      "\n",
      "Loading required package: lattice\n",
      "Loading required package: ggplot2\n",
      "Registered S3 methods overwritten by 'ggplot2':\n",
      "  method         from \n",
      "  [.quosures     rlang\n",
      "  c.quosures     rlang\n",
      "  print.quosures rlang\n",
      "randomForest 4.6-14\n",
      "Type rfNews() to see new features/changes/bug fixes.\n",
      "\n",
      "Attaching package: ‘randomForest’\n",
      "\n",
      "The following object is masked from ‘package:ggplot2’:\n",
      "\n",
      "    margin\n",
      "\n",
      "The following object is masked from ‘package:dplyr’:\n",
      "\n",
      "    combine\n",
      "\n"
     ]
    }
   ],
   "source": [
    "#ACURACY AND CONFUSION MATRIX USING DESISION TREE\n",
    "library(e1071)\n",
    "library(datasets)\n",
    "library(caTools)\n",
    "library(party)\n",
    "library(dplyr)\n",
    "library(magrittr)\n",
    "library(caret)\n",
    "library(randomForest)"
   ]
  },
  {
   "cell_type": "code",
   "execution_count": 20,
   "id": "bef76803",
   "metadata": {
    "scrolled": false
   },
   "outputs": [
    {
     "data": {
      "text/html": [
       "'BinaryTree'"
      ],
      "text/latex": [
       "'BinaryTree'"
      ],
      "text/markdown": [
       "'BinaryTree'"
      ],
      "text/plain": [
       "[1] \"BinaryTree\"\n",
       "attr(,\"package\")\n",
       "[1] \"party\""
      ]
     },
     "metadata": {},
     "output_type": "display_data"
    },
    {
     "name": "stdout",
     "output_type": "stream",
     "text": [
      "Confusion Matrix and Statistics\n",
      "\n",
      "          Reference\n",
      "Prediction  <=50K  >50K\n",
      "     <=50K  10655   705\n",
      "     >50K    1540  2160\n",
      "                                          \n",
      "               Accuracy : 0.8509          \n",
      "                 95% CI : (0.8451, 0.8566)\n",
      "    No Information Rate : 0.8098          \n",
      "    P-Value [Acc > NIR] : < 2.2e-16       \n",
      "                                          \n",
      "                  Kappa : 0.5647          \n",
      "                                          \n",
      " Mcnemar's Test P-Value : < 2.2e-16       \n",
      "                                          \n",
      "            Sensitivity : 0.8737          \n",
      "            Specificity : 0.7539          \n",
      "         Pos Pred Value : 0.9379          \n",
      "         Neg Pred Value : 0.5838          \n",
      "             Prevalence : 0.8098          \n",
      "         Detection Rate : 0.7075          \n",
      "   Detection Prevalence : 0.7543          \n",
      "      Balanced Accuracy : 0.8138          \n",
      "                                          \n",
      "       'Positive' Class :  <=50K          \n",
      "                                          \n"
     ]
    },
    {
     "data": {
      "image/png": "[encoded data removed]",
      "text/plain": [
       "Plot with title “”"
      ]
     },
     "metadata": {},
     "output_type": "display_data"
    }
   ],
   "source": [
    "#DESICION TREE ACCURACY\n",
    "#Create the decision tree model using ctree and plot the model \n",
    "\n",
    "model = ctree(Salary ~ ., au_train,controls = ctree_control(maxsurrogate = 4))\n",
    "class(model)\n",
    "#print(model)\n",
    "#distribution of responses in terminal nodes\n",
    "par(mfrow=c(2,2))\n",
    "plot(au_train$Salary ~ as.factor(where(model)))\n",
    "\n",
    "##get all terminal nodes from the tree\n",
    "#nodes(model,unique(where(model)))\n",
    "\n",
    "### extract weights and compute predictions \n",
    "#NOTE:#convert au_train$Salary factor to numeric to do calculations\n",
    "\n",
    "pmean = sapply(weights(model), function(w) weighted.mean(as.numeric(au_train$Salary) , w))\n",
    "#pmean \n",
    "               \n",
    "### the same as\n",
    "#drop(Predict(model))\n",
    "               \n",
    "### or\n",
    "#unlist(treeresponse(model))\n",
    "               \n",
    "### don't use the mean but the median as prediction in each terminal node\n",
    "\n",
    "au_train_num = as.numeric(au_train$Salary)\n",
    "pmedian = sapply(weights(model), function(w) median(au_train_num[rep(1:nrow(au_train), w)]))\n",
    "plot(au_train$Salary, pmean, col = \"red\")\n",
    "points(au_train$Salary, pmedian, col = \"blue\")\n",
    "#pmedian                 \n",
    "#CONFUSION MATRIX\n",
    "pred = predict(model, au_test[,-14],type =\"response\")\n",
    "cm = confusionMatrix(au_test$Salary, pred)\n",
    "print(cm)"
   ]
  },
  {
   "cell_type": "code",
   "execution_count": 62,
   "id": "618aad70",
   "metadata": {},
   "outputs": [
    {
     "data": {
      "text/plain": [
       "Confusion Matrix and Statistics\n",
       "\n",
       "          Reference\n",
       "Prediction  <=50K  >50K\n",
       "     <=50K  10646   714\n",
       "     >50K    1419  2281\n",
       "                                          \n",
       "               Accuracy : 0.8584          \n",
       "                 95% CI : (0.8527, 0.8639)\n",
       "    No Information Rate : 0.8011          \n",
       "    P-Value [Acc > NIR] : < 2.2e-16       \n",
       "                                          \n",
       "                  Kappa : 0.5916          \n",
       "                                          \n",
       " Mcnemar's Test P-Value : < 2.2e-16       \n",
       "                                          \n",
       "            Sensitivity : 0.8824          \n",
       "            Specificity : 0.7616          \n",
       "         Pos Pred Value : 0.9371          \n",
       "         Neg Pred Value : 0.6165          \n",
       "             Prevalence : 0.8011          \n",
       "         Detection Rate : 0.7069          \n",
       "   Detection Prevalence : 0.7543          \n",
       "      Balanced Accuracy : 0.8220          \n",
       "                                          \n",
       "       'Positive' Class :  <=50K          \n",
       "                                          "
      ]
     },
     "metadata": {},
     "output_type": "display_data"
    },
    {
     "data": {
      "text/plain": [
       "        \n",
       "          <=50K  >50K\n",
       "   <=50K  10646   714\n",
       "   >50K    1419  2281"
      ]
     },
     "metadata": {},
     "output_type": "display_data"
    }
   ],
   "source": [
    "#RANDOMFOREST\n",
    "library(ranger)\n",
    "rg.salary = ranger(Salary ~ ., data = au_train)\n",
    "pred.salary.rg = predict(rg.salary, data = au_test)\n",
    "\n",
    "#CONFUSION MATRIX\n",
    "\n",
    "confusionMatrix(au_test$Salary, pred.salary.rg$predictions)\n",
    "table(au_test$Salary, pred.salary.rg$predictions)\n"
   ]
  },
  {
   "cell_type": "code",
   "execution_count": 114,
   "id": "63d835e0",
   "metadata": {},
   "outputs": [
    {
     "data": {
      "text/plain": [
       "Confusion Matrix and Statistics\n",
       "\n",
       "          Reference\n",
       "Prediction  <=50K  >50K\n",
       "     <=50K  10655   705\n",
       "     >50K    1540  2160\n",
       "                                          \n",
       "               Accuracy : 0.8509          \n",
       "                 95% CI : (0.8451, 0.8566)\n",
       "    No Information Rate : 0.8098          \n",
       "    P-Value [Acc > NIR] : < 2.2e-16       \n",
       "                                          \n",
       "                  Kappa : 0.5647          \n",
       "                                          \n",
       " Mcnemar's Test P-Value : < 2.2e-16       \n",
       "                                          \n",
       "            Sensitivity : 0.8737          \n",
       "            Specificity : 0.7539          \n",
       "         Pos Pred Value : 0.9379          \n",
       "         Neg Pred Value : 0.5838          \n",
       "             Prevalence : 0.8098          \n",
       "         Detection Rate : 0.7075          \n",
       "   Detection Prevalence : 0.7543          \n",
       "      Balanced Accuracy : 0.8138          \n",
       "                                          \n",
       "       'Positive' Class :  <=50K          \n",
       "                                          "
      ]
     },
     "metadata": {},
     "output_type": "display_data"
    }
   ],
   "source": [
    "#ACURACY AND CONFUSION MATRIX USING NAIVES BAYES\n",
    "model_naives=naiveBayes(Salary~.,au_train)\n",
    "predictions_naives=predict(model,au_test[,-14])\n",
    "confusionMatrix(au_test$Salary, predictions_naives)\n",
    "\n",
    "#NOTE: Naives and Decision Tree has same accuracy values of 0.8509"
   ]
  },
  {
   "cell_type": "code",
   "execution_count": 113,
   "id": "8a42d0eb",
   "metadata": {},
   "outputs": [
    {
     "data": {
      "text/html": [
       "'AUC for Desicion Tree Model: 0.760861962314427'"
      ],
      "text/latex": [
       "'AUC for Desicion Tree Model: 0.760861962314427'"
      ],
      "text/markdown": [
       "'AUC for Desicion Tree Model: 0.760861962314427'"
      ],
      "text/plain": [
       "[1] \"AUC for Desicion Tree Model: 0.760861962314427\""
      ]
     },
     "metadata": {},
     "output_type": "display_data"
    },
    {
     "data": {
      "text/html": [
       "'AUC for Naives Bayes Model: 0.760861962314427'"
      ],
      "text/latex": [
       "'AUC for Naives Bayes Model: 0.760861962314427'"
      ],
      "text/markdown": [
       "'AUC for Naives Bayes Model: 0.760861962314427'"
      ],
      "text/plain": [
       "[1] \"AUC for Naives Bayes Model: 0.760861962314427\""
      ]
     },
     "metadata": {},
     "output_type": "display_data"
    },
    {
     "data": {
      "text/html": [
       "'AUC for Random Forest: 0.776817186905215'"
      ],
      "text/latex": [
       "'AUC for Random Forest: 0.776817186905215'"
      ],
      "text/markdown": [
       "'AUC for Random Forest: 0.776817186905215'"
      ],
      "text/plain": [
       "[1] \"AUC for Random Forest: 0.776817186905215\""
      ]
     },
     "metadata": {},
     "output_type": "display_data"
    },
    {
     "data": {
      "image/png": "[encoded data removed]",
      "text/plain": [
       "Plot with title “ROC Curve for Random Forest”"
      ]
     },
     "metadata": {},
     "output_type": "display_data"
    }
   ],
   "source": [
    "#AUROC Curve\n",
    "library(pROC)\n",
    "library(MASS)\n",
    "\n",
    "test_roc.dt = roc(au_test$Salary, as.numeric(pred)) #Decision Tree\n",
    "test_roc.nb = roc(au_test$Salary, as.numeric(predictions_naives)) #Naives Bayes\n",
    "test_roc.rg = roc(au_test$Salary, as.numeric(pred.salary.rg$predictions)) #Random Forest i.e ranger()\n",
    "\n",
    "sprintf(\"AUC for Desicion Tree Model: %s\", test_roc.dt$auc)\n",
    "sprintf(\"AUC for Naives Bayes Model: %s\", test_roc.nb$auc)\n",
    "sprintf(\"AUC for Random Forest: %s\", test_roc.rg$auc)\n",
    "\n",
    "roc.dt = roc(au_test$Salary, as.numeric(pred))\n",
    "roc.rg = roc(au_test$Salary,as.numeric(pred.salary.rg$predictions))\n",
    "\n",
    "\n",
    "par(mfrow=c(2,2))\n",
    "plot(roc.dt,auc.polygon.col=\"lightblue\", \n",
    "     print.thres=TRUE,grid.col=c(\"green\", \"red\"), \n",
    "     max.auc.polygon=TRUE,legacy.axes = TRUE,print.auc=TRUE, \n",
    "     auc.polygon=TRUE, grid=c(0.1, 0.2),type = \"o\", \n",
    "     xlab = 'FPR',ylab = 'TPR',main = 'ROC Curve for Decision Tree')\n",
    "plot(roc.rg,auc.polygon.col=\"lightblue\", \n",
    "     print.thres=TRUE,grid.col=c(\"green\", \"red\"), \n",
    "     max.auc.polygon=TRUE,legacy.axes = TRUE,print.auc=TRUE, \n",
    "     auc.polygon=TRUE, grid=c(0.1, 0.2),type = \"o\", \n",
    "     xlab = 'FPR',ylab = 'TPR',main = 'ROC Curve for Random Forest')\n",
    "\n",
    "\n"
   ]
  },
  {
   "cell_type": "code",
   "execution_count": 100,
   "id": "75317fc1",
   "metadata": {},
   "outputs": [
    {
     "data": {
      "text/html": [
       "'ACC: 0.850929614873838'"
      ],
      "text/latex": [
       "'ACC: 0.850929614873838'"
      ],
      "text/markdown": [
       "'ACC: 0.850929614873838'"
      ],
      "text/plain": [
       "[1] \"ACC: 0.850929614873838\""
      ]
     },
     "metadata": {},
     "output_type": "display_data"
    },
    {
     "data": {
      "text/html": [
       "'TPR: 0.93794014084507'"
      ],
      "text/latex": [
       "'TPR: 0.93794014084507'"
      ],
      "text/markdown": [
       "'TPR: 0.93794014084507'"
      ],
      "text/plain": [
       "[1] \"TPR: 0.93794014084507\""
      ]
     },
     "metadata": {},
     "output_type": "display_data"
    },
    {
     "data": {
      "text/html": [
       "'TNR: 0.583783783783784'"
      ],
      "text/latex": [
       "'TNR: 0.583783783783784'"
      ],
      "text/markdown": [
       "'TNR: 0.583783783783784'"
      ],
      "text/plain": [
       "[1] \"TNR: 0.583783783783784\""
      ]
     },
     "metadata": {},
     "output_type": "display_data"
    },
    {
     "data": {
      "text/html": [
       "'PPV: 0.873718737187372'"
      ],
      "text/latex": [
       "'PPV: 0.873718737187372'"
      ],
      "text/markdown": [
       "'PPV: 0.873718737187372'"
      ],
      "text/plain": [
       "[1] \"PPV: 0.873718737187372\""
      ]
     },
     "metadata": {},
     "output_type": "display_data"
    },
    {
     "data": {
      "text/html": [
       "'NVP: 0.753926701570681'"
      ],
      "text/latex": [
       "'NVP: 0.753926701570681'"
      ],
      "text/markdown": [
       "'NVP: 0.753926701570681'"
      ],
      "text/plain": [
       "[1] \"NVP: 0.753926701570681\""
      ]
     },
     "metadata": {},
     "output_type": "display_data"
    },
    {
     "data": {
      "text/html": [
       "'FNR: 0.246073298429319'"
      ],
      "text/latex": [
       "'FNR: 0.246073298429319'"
      ],
      "text/markdown": [
       "'FNR: 0.246073298429319'"
      ],
      "text/plain": [
       "[1] \"FNR: 0.246073298429319\""
      ]
     },
     "metadata": {},
     "output_type": "display_data"
    },
    {
     "data": {
      "text/html": [
       "'FPR: 0.416216216216216'"
      ],
      "text/latex": [
       "'FPR: 0.416216216216216'"
      ],
      "text/markdown": [
       "'FPR: 0.416216216216216'"
      ],
      "text/plain": [
       "[1] \"FPR: 0.416216216216216\""
      ]
     },
     "metadata": {},
     "output_type": "display_data"
    },
    {
     "data": {
      "text/html": [
       "'FDR: 0.126281262812628'"
      ],
      "text/latex": [
       "'FDR: 0.126281262812628'"
      ],
      "text/markdown": [
       "'FDR: 0.126281262812628'"
      ],
      "text/plain": [
       "[1] \"FDR: 0.126281262812628\""
      ]
     },
     "metadata": {},
     "output_type": "display_data"
    },
    {
     "data": {
      "text/html": [
       "'FOR: 0.246073298429319'"
      ],
      "text/latex": [
       "'FOR: 0.246073298429319'"
      ],
      "text/markdown": [
       "'FOR: 0.246073298429319'"
      ],
      "text/plain": [
       "[1] \"FOR: 0.246073298429319\""
      ]
     },
     "metadata": {},
     "output_type": "display_data"
    },
    {
     "data": {
      "text/html": [
       "'LR+: 2.25349254618621'"
      ],
      "text/latex": [
       "'LR+: 2.25349254618621'"
      ],
      "text/markdown": [
       "'LR+: 2.25349254618621'"
      ],
      "text/plain": [
       "[1] \"LR+: 2.25349254618621\""
      ]
     },
     "metadata": {},
     "output_type": "display_data"
    },
    {
     "data": {
      "text/html": [
       "'LR-: 0.421514446383556'"
      ],
      "text/latex": [
       "'LR-: 0.421514446383556'"
      ],
      "text/markdown": [
       "'LR-: 0.421514446383556'"
      ],
      "text/plain": [
       "[1] \"LR-: 0.421514446383556\""
      ]
     },
     "metadata": {},
     "output_type": "display_data"
    },
    {
     "data": {
      "text/html": [
       "'PT: 0.399813889730638'"
      ],
      "text/latex": [
       "'PT: 0.399813889730638'"
      ],
      "text/markdown": [
       "'PT: 0.399813889730638'"
      ],
      "text/plain": [
       "[1] \"PT: 0.399813889730638\""
      ]
     },
     "metadata": {},
     "output_type": "display_data"
    },
    {
     "data": {
      "text/html": [
       "'Prevalance: 3.07027027027027'"
      ],
      "text/latex": [
       "'Prevalance: 3.07027027027027'"
      ],
      "text/markdown": [
       "'Prevalance: 3.07027027027027'"
      ],
      "text/plain": [
       "[1] \"Prevalance: 3.07027027027027\""
      ]
     },
     "metadata": {},
     "output_type": "display_data"
    },
    {
     "data": {
      "text/html": [
       "'BA: 0.760861962314427'"
      ],
      "text/latex": [
       "'BA: 0.760861962314427'"
      ],
      "text/markdown": [
       "'BA: 0.760861962314427'"
      ],
      "text/plain": [
       "[1] \"BA: 0.760861962314427\""
      ]
     },
     "metadata": {},
     "output_type": "display_data"
    },
    {
     "data": {
      "text/html": [
       "'BM: 0.521723924628854'"
      ],
      "text/latex": [
       "'BM: 0.521723924628854'"
      ],
      "text/markdown": [
       "'BM: 0.521723924628854'"
      ],
      "text/plain": [
       "[1] \"BM: 0.521723924628854\""
      ]
     },
     "metadata": {},
     "output_type": "display_data"
    },
    {
     "data": {
      "text/html": [
       "'TS: 0.825968992248062'"
      ],
      "text/latex": [
       "'TS: 0.825968992248062'"
      ],
      "text/markdown": [
       "'TS: 0.825968992248062'"
      ],
      "text/plain": [
       "[1] \"TS: 0.825968992248062\""
      ]
     },
     "metadata": {},
     "output_type": "display_data"
    },
    {
     "data": {
      "text/html": [
       "'F1: 0.904691148376141'"
      ],
      "text/latex": [
       "'F1: 0.904691148376141'"
      ],
      "text/markdown": [
       "'F1: 0.904691148376141'"
      ],
      "text/plain": [
       "[1] \"F1: 0.904691148376141\""
      ]
     },
     "metadata": {},
     "output_type": "display_data"
    },
    {
     "data": {
      "text/html": [
       "'MCC: 0.572239147196564'"
      ],
      "text/latex": [
       "'MCC: 0.572239147196564'"
      ],
      "text/markdown": [
       "'MCC: 0.572239147196564'"
      ],
      "text/plain": [
       "[1] \"MCC: 0.572239147196564\""
      ]
     },
     "metadata": {},
     "output_type": "display_data"
    },
    {
     "data": {
      "text/html": [
       "'PM: 0.905260114782763'"
      ],
      "text/latex": [
       "'PM: 0.905260114782763'"
      ],
      "text/markdown": [
       "'PM: 0.905260114782763'"
      ],
      "text/plain": [
       "[1] \"PM: 0.905260114782763\""
      ]
     },
     "metadata": {},
     "output_type": "display_data"
    },
    {
     "data": {
      "text/html": [
       "'MK: 0.627645438758053'"
      ],
      "text/latex": [
       "'MK: 0.627645438758053'"
      ],
      "text/markdown": [
       "'MK: 0.627645438758053'"
      ],
      "text/plain": [
       "[1] \"MK: 0.627645438758053\""
      ]
     },
     "metadata": {},
     "output_type": "display_data"
    },
    {
     "data": {
      "text/html": [
       "'DOR: 5.34618105149271'"
      ],
      "text/latex": [
       "'DOR: 5.34618105149271'"
      ],
      "text/markdown": [
       "'DOR: 5.34618105149271'"
      ],
      "text/plain": [
       "[1] \"DOR: 5.34618105149271\""
      ]
     },
     "metadata": {},
     "output_type": "display_data"
    }
   ],
   "source": [
    "#MODEL DIAGNOSTICS\n",
    "TP = 10655\n",
    "FN = 705\n",
    "FP = 1540\n",
    "TN = 2160\n",
    "ACC = (TP+TN)/(TP+TN+FP+FN) # Accuracy / Out of all the classes, how much we predicted correctly, which must be high as possible\n",
    "sprintf(\"ACC: %s\", ACC)\n",
    "TPR = TP/(TP+FN) #TPR / # Sensitivity / true positive rate : It measures the proportion of actual positives that are correctly identified.\n",
    "sprintf(\"TPR: %s\", TPR)\n",
    "TNR = TN/(TN+FP) #TNR / Specificity / true negative rate : It measures the proportion of actual negatives that are correctly identif\n",
    "sprintf(\"TNR: %s\",TNR)\n",
    "PPV = TP/(TP+FP) # PPV / presicion or positive predictive value:  Is a fraction of relevant instances among the retrieved instances\n",
    "sprintf(\"PPV: %s\", PPV)              \n",
    "NPV = TN/(TN+FN) # NVP / negative predictive value\n",
    "sprintf(\"NVP: %s\", NPV)\n",
    "FNR = FN/(FN+TN) # FNR / miss rate or false negative rate\n",
    "sprintf(\"FNR: %s\", FNR)\n",
    "FPR = FP/(FP+TN) # FPR / fall-out or false positive rate\n",
    "sprintf(\"FPR: %s\", FPR)\n",
    "FDR = FP/(FP+TP) # FDR / false discovery rate\n",
    "sprintf(\"FDR: %s\", FDR)\n",
    "FOR = FN/(FN+TN) # FOR / false omission rate\n",
    "sprintf(\"FOR: %s\", FOR)\n",
    "LR_P = TPR/FPR   # LR+ / positive likelihood ratio\n",
    "sprintf(\"LR+: %s\", LR_P)\n",
    "LR_N = FNR/TNR   # LR- / negative likelihood ratio\n",
    "sprintf(\"LR-: %s\", LR_N)\n",
    "PT = sqrt(FPR)/(sqrt(TPR)+sqrt(FPR))  # PT / Prevalance threshhold\n",
    "sprintf(\"PT: %s\",PT)\n",
    "Prevalance = (TP+FN)/(TN+FP) # Prevalance\n",
    "sprintf(\"Prevalance: %s\",Prevalance)\n",
    "BA = (TPR + TNR)/2 # BA / Balanced accuracy \n",
    "sprintf(\"BA: %s\", BA)\n",
    "BM = TPR + TNR - 1 # BM /Informedness, bookmaker informedness / estimates the probability of an informed decision.\n",
    "sprintf(\"BM: %s\", BM)\n",
    "TS = TP/(TP+FN+FP) # PT / threat score or critical success index CSI\n",
    "sprintf(\"TS: %s\", TS)  #F1 / the harmonic mean of presicion and sensitivity\n",
    "F1 = 2%*%TP/(2%*%TP+FP+FN)\n",
    "sprintf(\"F1: %s\", F1)\n",
    "MCC = (TP%*%TN-FP%*%FN)/sqrt((TP+FP)%*%(TP+FN)%*%(TN+FP)%*%(TN+FN)) # MCC / phi coefficient or Matthews correlation coefficient\n",
    "sprintf(\"MCC: %s\", MCC)\n",
    "FM = sqrt(PPV%*%TPR)  # FM / Fowlkes-Mallows index\n",
    "sprintf(\"PM: %s\", FM)\n",
    "MK = PPV + NPV-1 # MK / markedness or deltaP\n",
    "sprintf(\"MK: %s\", MK)\n",
    "DOR = LR_P/LR_N  # Diagnostics odds ration\n",
    "sprintf(\"DOR: %s\", DOR)"
   ]
  }
 ],
 "metadata": {
  "kernelspec": {
   "display_name": "R",
   "language": "R",
   "name": "ir"
  },
  "language_info": {
   "codemirror_mode": "r",
   "file_extension": ".r",
   "mimetype": "text/x-r-source",
   "name": "R",
   "pygments_lexer": "r",
   "version": "3.6.0"
  }
 },
 "nbformat": 4,
 "nbformat_minor": 5
}
